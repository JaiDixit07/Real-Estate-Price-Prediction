{
 "cells": [
  {
   "cell_type": "markdown",
   "id": "f65d5706",
   "metadata": {
    "execution": {
     "iopub.execute_input": "2024-07-21T16:11:23.553610Z",
     "iopub.status.busy": "2024-07-21T16:11:23.553141Z",
     "iopub.status.idle": "2024-07-21T16:11:23.562510Z",
     "shell.execute_reply": "2024-07-21T16:11:23.560679Z",
     "shell.execute_reply.started": "2024-07-21T16:11:23.553573Z"
    },
    "papermill": {
     "duration": 0.018021,
     "end_time": "2024-07-21T18:02:48.139496",
     "exception": false,
     "start_time": "2024-07-21T18:02:48.121475",
     "status": "completed"
    },
    "tags": []
   },
   "source": [
    "# 🏡 **Bengaluru House Price Prediction**"
   ]
  },
  {
   "cell_type": "code",
   "execution_count": 73,
   "id": "0ad49883",
   "metadata": {
    "_cell_guid": "b1076dfc-b9ad-4769-8c92-a6c4dae69d19",
    "_uuid": "8f2839f25d086af736a60e9eeb907d3b93b6e0e5",
    "execution": {
     "iopub.execute_input": "2024-07-21T18:02:48.187844Z",
     "iopub.status.busy": "2024-07-21T18:02:48.187275Z",
     "iopub.status.idle": "2024-07-21T18:02:51.628748Z",
     "shell.execute_reply": "2024-07-21T18:02:51.627065Z"
    },
    "papermill": {
     "duration": 3.465789,
     "end_time": "2024-07-21T18:02:51.631483",
     "exception": false,
     "start_time": "2024-07-21T18:02:48.165694",
     "status": "completed"
    },
    "tags": []
   },
   "outputs": [],
   "source": [
    "import matplotlib.image as mpimg\n",
    "import numpy as np # linear algebra\n",
    "import pandas as pd # data processing, CSV file I/O (e.g. pd.read_csv)\n",
    "from matplotlib import pyplot as plt\n",
    "%matplotlib inline\n",
    "import matplotlib \n",
    "matplotlib.rcParams[\"figure.figsize\"] = (20,10)\n",
    "import seaborn as sns\n",
    "from sklearn import preprocessing\n",
    "from sklearn import model_selection\n",
    "import sklearn\n",
    "import xgboost\n",
    "\n"
   ]
  },
  {
   "cell_type": "markdown",
   "id": "be92485a",
   "metadata": {
    "execution": {
     "iopub.execute_input": "2024-07-21T16:13:59.873364Z",
     "iopub.status.busy": "2024-07-21T16:13:59.872913Z",
     "iopub.status.idle": "2024-07-21T16:13:59.878711Z",
     "shell.execute_reply": "2024-07-21T16:13:59.877156Z",
     "shell.execute_reply.started": "2024-07-21T16:13:59.873331Z"
    },
    "papermill": {
     "duration": 0.042821,
     "end_time": "2024-07-21T18:02:52.754995",
     "exception": false,
     "start_time": "2024-07-21T18:02:52.712174",
     "status": "completed"
    },
    "tags": []
   },
   "source": [
    "# 📜 Problem Statement\n",
    "\n",
    "### By analyzing these Bengaluru house data, we will determine the approximate price for the houses."
   ]
  },
  {
   "cell_type": "markdown",
   "id": "13b651b7",
   "metadata": {
    "execution": {
     "iopub.execute_input": "2024-07-21T16:15:55.015787Z",
     "iopub.status.busy": "2024-07-21T16:15:55.014858Z",
     "iopub.status.idle": "2024-07-21T16:15:55.029653Z",
     "shell.execute_reply": "2024-07-21T16:15:55.027757Z",
     "shell.execute_reply.started": "2024-07-21T16:15:55.015727Z"
    },
    "papermill": {
     "duration": 0.042941,
     "end_time": "2024-07-21T18:02:52.841501",
     "exception": false,
     "start_time": "2024-07-21T18:02:52.798560",
     "status": "completed"
    },
    "tags": []
   },
   "source": [
    "# 📊 Dataset Overview\n",
    "\n",
    "---\n",
    "\n",
    "<div style=\"color: white; display: fill; border-radius: 5px; background-color: #D3D3D3; font-size: 100%; font-family: Verdana; padding: 7px;\">\n",
    "    <h2>Data Description</h2>\n",
    "    <ul style=\"padding-left: 20px; color: black;\">\n",
    "        <li>📌 <b>Area_type</b> - Description of the area</li>\n",
    "        <li>📌 <b>Availability</b> - When it can be possessed or when it is ready</li>\n",
    "        <li>📌 <b>Location</b> - Where it is located in Bengaluru</li>\n",
    "        <li>📌 <b>Size</b> - BHK or Bedrooms</li>\n",
    "        <li>📌 <b>Society</b> - To which society it belongs</li>\n",
    "        <li>📌 <b>Total_sqft</b> - Size of the property in sq.ft</li>\n",
    "        <li>📌 <b>Bath</b> - No. of Bathrooms</li>\n",
    "        <li>📌 <b>Balcony</b> - No. of the Balcony</li>\n",
    "        <li>📌 <b>Price</b> - Value of the property in lakhs (Indian Rupee - <b>₹</b>)</li>\n",
    "    </ul>\n",
    "</div>\n",
    "\n",
    "---"
   ]
  },
  {
   "cell_type": "code",
   "execution_count": 74,
   "id": "4386b223",
   "metadata": {
    "_cell_guid": "79c7e3d0-c299-4dcb-8224-4455121ee9b0",
    "_uuid": "d629ff2d2480ee46fbb7e2d37f6b5fab8052498a",
    "execution": {
     "iopub.execute_input": "2024-07-21T18:02:52.944282Z",
     "iopub.status.busy": "2024-07-21T18:02:52.943686Z",
     "iopub.status.idle": "2024-07-21T18:02:53.025729Z",
     "shell.execute_reply": "2024-07-21T18:02:53.024030Z"
    },
    "papermill": {
     "duration": 0.142458,
     "end_time": "2024-07-21T18:02:53.029746",
     "exception": false,
     "start_time": "2024-07-21T18:02:52.887288",
     "status": "completed"
    },
    "tags": []
   },
   "outputs": [
    {
     "data": {
      "text/html": [
       "<div>\n",
       "<style scoped>\n",
       "    .dataframe tbody tr th:only-of-type {\n",
       "        vertical-align: middle;\n",
       "    }\n",
       "\n",
       "    .dataframe tbody tr th {\n",
       "        vertical-align: top;\n",
       "    }\n",
       "\n",
       "    .dataframe thead th {\n",
       "        text-align: right;\n",
       "    }\n",
       "</style>\n",
       "<table border=\"1\" class=\"dataframe\">\n",
       "  <thead>\n",
       "    <tr style=\"text-align: right;\">\n",
       "      <th></th>\n",
       "      <th>area_type</th>\n",
       "      <th>availability</th>\n",
       "      <th>location</th>\n",
       "      <th>size</th>\n",
       "      <th>society</th>\n",
       "      <th>total_sqft</th>\n",
       "      <th>bath</th>\n",
       "      <th>balcony</th>\n",
       "      <th>price</th>\n",
       "    </tr>\n",
       "  </thead>\n",
       "  <tbody>\n",
       "    <tr>\n",
       "      <th>0</th>\n",
       "      <td>Super built-up  Area</td>\n",
       "      <td>19-Dec</td>\n",
       "      <td>Electronic City Phase II</td>\n",
       "      <td>2 BHK</td>\n",
       "      <td>Coomee</td>\n",
       "      <td>1056</td>\n",
       "      <td>2.0</td>\n",
       "      <td>1.0</td>\n",
       "      <td>39.07</td>\n",
       "    </tr>\n",
       "    <tr>\n",
       "      <th>1</th>\n",
       "      <td>Plot  Area</td>\n",
       "      <td>Ready To Move</td>\n",
       "      <td>Chikka Tirupathi</td>\n",
       "      <td>4 Bedroom</td>\n",
       "      <td>Theanmp</td>\n",
       "      <td>2600</td>\n",
       "      <td>5.0</td>\n",
       "      <td>3.0</td>\n",
       "      <td>120.00</td>\n",
       "    </tr>\n",
       "    <tr>\n",
       "      <th>2</th>\n",
       "      <td>Built-up  Area</td>\n",
       "      <td>Ready To Move</td>\n",
       "      <td>Uttarahalli</td>\n",
       "      <td>3 BHK</td>\n",
       "      <td>NaN</td>\n",
       "      <td>1440</td>\n",
       "      <td>2.0</td>\n",
       "      <td>3.0</td>\n",
       "      <td>62.00</td>\n",
       "    </tr>\n",
       "    <tr>\n",
       "      <th>3</th>\n",
       "      <td>Super built-up  Area</td>\n",
       "      <td>Ready To Move</td>\n",
       "      <td>Lingadheeranahalli</td>\n",
       "      <td>3 BHK</td>\n",
       "      <td>Soiewre</td>\n",
       "      <td>1521</td>\n",
       "      <td>3.0</td>\n",
       "      <td>1.0</td>\n",
       "      <td>95.00</td>\n",
       "    </tr>\n",
       "    <tr>\n",
       "      <th>4</th>\n",
       "      <td>Super built-up  Area</td>\n",
       "      <td>Ready To Move</td>\n",
       "      <td>Kothanur</td>\n",
       "      <td>2 BHK</td>\n",
       "      <td>NaN</td>\n",
       "      <td>1200</td>\n",
       "      <td>2.0</td>\n",
       "      <td>1.0</td>\n",
       "      <td>51.00</td>\n",
       "    </tr>\n",
       "  </tbody>\n",
       "</table>\n",
       "</div>"
      ],
      "text/plain": [
       "              area_type   availability                  location       size  \\\n",
       "0  Super built-up  Area         19-Dec  Electronic City Phase II      2 BHK   \n",
       "1            Plot  Area  Ready To Move          Chikka Tirupathi  4 Bedroom   \n",
       "2        Built-up  Area  Ready To Move               Uttarahalli      3 BHK   \n",
       "3  Super built-up  Area  Ready To Move        Lingadheeranahalli      3 BHK   \n",
       "4  Super built-up  Area  Ready To Move                  Kothanur      2 BHK   \n",
       "\n",
       "   society total_sqft  bath  balcony   price  \n",
       "0  Coomee        1056   2.0      1.0   39.07  \n",
       "1  Theanmp       2600   5.0      3.0  120.00  \n",
       "2      NaN       1440   2.0      3.0   62.00  \n",
       "3  Soiewre       1521   3.0      1.0   95.00  \n",
       "4      NaN       1200   2.0      1.0   51.00  "
      ]
     },
     "execution_count": 74,
     "metadata": {},
     "output_type": "execute_result"
    }
   ],
   "source": [
    "home = pd.read_csv(\"data/Bengaluru_House_Data.csv\")\n",
    "home.head()"
   ]
  },
  {
   "cell_type": "markdown",
   "id": "d6967890",
   "metadata": {
    "papermill": {
     "duration": 0.058034,
     "end_time": "2024-07-21T18:02:53.141906",
     "exception": false,
     "start_time": "2024-07-21T18:02:53.083872",
     "status": "completed"
    },
    "tags": []
   },
   "source": [
    "<h3 style=\"background-color: #e9ecef; \n",
    "           padding: 15px; \n",
    "           font: bold 22px Arial; \n",
    "           color: #495057; \n",
    "           border: 2px solid #adb5bd; \n",
    "           border-radius: 8px\">\n",
    "<br> <small style=\"color: #6c757d;\">Exploratory Data Analysis (EDA)</small>\n",
    "</h3>"
   ]
  },
  {
   "cell_type": "code",
   "execution_count": 75,
   "id": "952f376c",
   "metadata": {
    "execution": {
     "iopub.execute_input": "2024-07-21T18:02:53.241960Z",
     "iopub.status.busy": "2024-07-21T18:02:53.241524Z",
     "iopub.status.idle": "2024-07-21T18:02:53.280160Z",
     "shell.execute_reply": "2024-07-21T18:02:53.278978Z"
    },
    "papermill": {
     "duration": 0.08768,
     "end_time": "2024-07-21T18:02:53.283141",
     "exception": false,
     "start_time": "2024-07-21T18:02:53.195461",
     "status": "completed"
    },
    "tags": []
   },
   "outputs": [
    {
     "name": "stdout",
     "output_type": "stream",
     "text": [
      "<class 'pandas.core.frame.DataFrame'>\n",
      "RangeIndex: 13320 entries, 0 to 13319\n",
      "Data columns (total 9 columns):\n",
      " #   Column        Non-Null Count  Dtype  \n",
      "---  ------        --------------  -----  \n",
      " 0   area_type     13320 non-null  object \n",
      " 1   availability  13320 non-null  object \n",
      " 2   location      13319 non-null  object \n",
      " 3   size          13304 non-null  object \n",
      " 4   society       7818 non-null   object \n",
      " 5   total_sqft    13320 non-null  object \n",
      " 6   bath          13247 non-null  float64\n",
      " 7   balcony       12711 non-null  float64\n",
      " 8   price         13320 non-null  float64\n",
      "dtypes: float64(3), object(6)\n",
      "memory usage: 936.7+ KB\n"
     ]
    }
   ],
   "source": [
    "home.info()"
   ]
  },
  {
   "cell_type": "markdown",
   "id": "389d3b35",
   "metadata": {
    "papermill": {
     "duration": 0.044428,
     "end_time": "2024-07-21T18:02:53.376753",
     "exception": false,
     "start_time": "2024-07-21T18:02:53.332325",
     "status": "completed"
    },
    "tags": []
   },
   "source": [
    "## Data Preprocessing!"
   ]
  },
  {
   "cell_type": "code",
   "execution_count": 76,
   "id": "c7b4f2d0",
   "metadata": {
    "execution": {
     "iopub.execute_input": "2024-07-21T18:02:53.468391Z",
     "iopub.status.busy": "2024-07-21T18:02:53.467936Z",
     "iopub.status.idle": "2024-07-21T18:02:53.488707Z",
     "shell.execute_reply": "2024-07-21T18:02:53.487543Z"
    },
    "papermill": {
     "duration": 0.069962,
     "end_time": "2024-07-21T18:02:53.491357",
     "exception": false,
     "start_time": "2024-07-21T18:02:53.421395",
     "status": "completed"
    },
    "tags": []
   },
   "outputs": [
    {
     "data": {
      "text/plain": [
       "area_type        0.00\n",
       "availability     0.00\n",
       "location         0.01\n",
       "size             0.12\n",
       "society         41.31\n",
       "total_sqft       0.00\n",
       "bath             0.55\n",
       "balcony          4.57\n",
       "price            0.00\n",
       "dtype: float64"
      ]
     },
     "execution_count": 76,
     "metadata": {},
     "output_type": "execute_result"
    }
   ],
   "source": [
    "\n",
    "\n",
    "round(100*(home.isnull().sum()/len(home.index)),2)"
   ]
  },
  {
   "cell_type": "markdown",
   "id": "5e5334d9",
   "metadata": {
    "papermill": {
     "duration": 0.043546,
     "end_time": "2024-07-21T18:02:53.579927",
     "exception": false,
     "start_time": "2024-07-21T18:02:53.536381",
     "status": "completed"
    },
    "tags": []
   },
   "source": [
    "<h3 style=\"background-color: #f8f9fa; \n",
    "           padding: 15px; \n",
    "           font: bold 22px Arial; \n",
    "           color: #343a40; \n",
    "           border: 2px solid #6c757d; \n",
    "           border-radius: 8px\">\n",
    "Removing NaN Values and Unnecessary Columns\n",
    "</h3>"
   ]
  },
  {
   "cell_type": "code",
   "execution_count": 77,
   "id": "213f8f64",
   "metadata": {
    "execution": {
     "iopub.execute_input": "2024-07-21T18:02:53.671681Z",
     "iopub.status.busy": "2024-07-21T18:02:53.670953Z",
     "iopub.status.idle": "2024-07-21T18:02:53.690995Z",
     "shell.execute_reply": "2024-07-21T18:02:53.689773Z"
    },
    "papermill": {
     "duration": 0.068612,
     "end_time": "2024-07-21T18:02:53.693851",
     "exception": false,
     "start_time": "2024-07-21T18:02:53.625239",
     "status": "completed"
    },
    "tags": []
   },
   "outputs": [],
   "source": [
    "home.dropna(inplace =True)"
   ]
  },
  {
   "cell_type": "code",
   "execution_count": 78,
   "id": "8411cec5",
   "metadata": {
    "execution": {
     "iopub.execute_input": "2024-07-21T18:02:53.784327Z",
     "iopub.status.busy": "2024-07-21T18:02:53.783903Z",
     "iopub.status.idle": "2024-07-21T18:02:53.792400Z",
     "shell.execute_reply": "2024-07-21T18:02:53.791297Z"
    },
    "papermill": {
     "duration": 0.057062,
     "end_time": "2024-07-21T18:02:53.794932",
     "exception": false,
     "start_time": "2024-07-21T18:02:53.737870",
     "status": "completed"
    },
    "tags": []
   },
   "outputs": [],
   "source": [
    "home = home.drop(columns='society')"
   ]
  },
  {
   "cell_type": "code",
   "execution_count": 79,
   "id": "3c463d91",
   "metadata": {
    "execution": {
     "iopub.execute_input": "2024-07-21T18:02:53.885467Z",
     "iopub.status.busy": "2024-07-21T18:02:53.885047Z",
     "iopub.status.idle": "2024-07-21T18:02:53.890390Z",
     "shell.execute_reply": "2024-07-21T18:02:53.889162Z"
    },
    "papermill": {
     "duration": 0.053265,
     "end_time": "2024-07-21T18:02:53.892849",
     "exception": false,
     "start_time": "2024-07-21T18:02:53.839584",
     "status": "completed"
    },
    "tags": []
   },
   "outputs": [],
   "source": [
    "home.reset_index(drop= True, inplace =True)"
   ]
  },
  {
   "cell_type": "code",
   "execution_count": 35,
   "id": "737da6c6",
   "metadata": {
    "execution": {
     "iopub.execute_input": "2024-07-21T18:02:53.985439Z",
     "iopub.status.busy": "2024-07-21T18:02:53.985022Z",
     "iopub.status.idle": "2024-07-21T18:02:54.273093Z",
     "shell.execute_reply": "2024-07-21T18:02:54.271827Z"
    },
    "papermill": {
     "duration": 0.338861,
     "end_time": "2024-07-21T18:02:54.275953",
     "exception": false,
     "start_time": "2024-07-21T18:02:53.937092",
     "status": "completed"
    },
    "tags": []
   },
   "outputs": [
    {
     "data": {
      "image/png": "[encoded data removed]",
      "text/plain": [
       "<Figure size 2000x1000 with 1 Axes>"
      ]
     },
     "metadata": {},
     "output_type": "display_data"
    }
   ],
   "source": [
    "(home[\"area_type\"].value_counts()).plot.pie(autopct=\"%.1f%%\", shadow=True,rotatelabels=True, wedgeprops={'linewidth': 6}, radius=1)\n",
    "plt.show()"
   ]
  },
  {
   "cell_type": "code",
   "execution_count": 36,
   "id": "57e4edd5",
   "metadata": {
    "execution": {
     "iopub.execute_input": "2024-07-21T18:02:54.368908Z",
     "iopub.status.busy": "2024-07-21T18:02:54.368475Z",
     "iopub.status.idle": "2024-07-21T18:02:54.715014Z",
     "shell.execute_reply": "2024-07-21T18:02:54.713906Z"
    },
    "papermill": {
     "duration": 0.396091,
     "end_time": "2024-07-21T18:02:54.717813",
     "exception": false,
     "start_time": "2024-07-21T18:02:54.321722",
     "status": "completed"
    },
    "tags": []
   },
   "outputs": [
    {
     "data": {
      "image/png": "[encoded data removed]",
      "text/plain": [
       "<Figure size 2000x800 with 1 Axes>"
      ]
     },
     "metadata": {},
     "output_type": "display_data"
    }
   ],
   "source": [
    "plt.figure(figsize = (20,8))\n",
    "ax=sns.countplot(x = 'balcony', data = home)\n",
    "plt.xticks(rotation = 90)\n",
    "for p in ax.patches:\n",
    "    ax.annotate(int(p.get_height()), (p.get_x()+0.25, p.get_height()+1), va = 'bottom', color = 'black')"
   ]
  },
  {
   "cell_type": "code",
   "execution_count": 37,
   "id": "52011604",
   "metadata": {
    "execution": {
     "iopub.execute_input": "2024-07-21T18:02:54.813723Z",
     "iopub.status.busy": "2024-07-21T18:02:54.812945Z",
     "iopub.status.idle": "2024-07-21T18:02:55.955750Z",
     "shell.execute_reply": "2024-07-21T18:02:55.954415Z"
    },
    "papermill": {
     "duration": 1.192653,
     "end_time": "2024-07-21T18:02:55.958408",
     "exception": false,
     "start_time": "2024-07-21T18:02:54.765755",
     "status": "completed"
    },
    "tags": []
   },
   "outputs": [
    {
     "data": {
      "image/png": "[encoded data removed]",
      "text/plain": [
       "<Figure size 789.25x600 with 1 Axes>"
      ]
     },
     "metadata": {},
     "output_type": "display_data"
    }
   ],
   "source": [
    "import warnings\n",
    "warnings.filterwarnings('ignore')\n",
    "\n",
    "sns.FacetGrid(home, hue='area_type', height=6).map(sns.distplot, 'bath').add_legend()\n",
    "plt.show()"
   ]
  },
  {
   "cell_type": "code",
   "execution_count": 38,
   "id": "c6f70922",
   "metadata": {
    "execution": {
     "iopub.execute_input": "2024-07-21T18:02:56.054440Z",
     "iopub.status.busy": "2024-07-21T18:02:56.054002Z",
     "iopub.status.idle": "2024-07-21T18:02:57.082013Z",
     "shell.execute_reply": "2024-07-21T18:02:57.080737Z"
    },
    "papermill": {
     "duration": 1.079277,
     "end_time": "2024-07-21T18:02:57.084734",
     "exception": false,
     "start_time": "2024-07-21T18:02:56.005457",
     "status": "completed"
    },
    "tags": []
   },
   "outputs": [
    {
     "data": {
      "image/png": "[encoded data removed]",
      "text/plain": [
       "<Figure size 789.25x600 with 1 Axes>"
      ]
     },
     "metadata": {},
     "output_type": "display_data"
    }
   ],
   "source": [
    "sns.FacetGrid(home, hue='area_type', height=6).map(sns.distplot, 'balcony').add_legend()\n",
    "plt.show()"
   ]
  },
  {
   "cell_type": "markdown",
   "id": "80b1fd98",
   "metadata": {
    "papermill": {
     "duration": 0.048601,
     "end_time": "2024-07-21T18:02:57.183292",
     "exception": false,
     "start_time": "2024-07-21T18:02:57.134691",
     "status": "completed"
    },
    "tags": []
   },
   "source": [
    "<h3 style=\"background-color: #f1f3f5; \n",
    "           padding: 15px; \n",
    "           font: bold 22px Arial; \n",
    "           color: #212529; \n",
    "           border: 2px solid #ced4da; \n",
    "           border-radius: 8px\">\n",
    "Extracting BHK from Size Column\n",
    "</h3>"
   ]
  },
  {
   "cell_type": "code",
   "execution_count": 80,
   "id": "597fac44",
   "metadata": {
    "execution": {
     "iopub.execute_input": "2024-07-21T18:02:57.283912Z",
     "iopub.status.busy": "2024-07-21T18:02:57.283446Z",
     "iopub.status.idle": "2024-07-21T18:02:57.307542Z",
     "shell.execute_reply": "2024-07-21T18:02:57.306418Z"
    },
    "papermill": {
     "duration": 0.077588,
     "end_time": "2024-07-21T18:02:57.310279",
     "exception": false,
     "start_time": "2024-07-21T18:02:57.232691",
     "status": "completed"
    },
    "tags": []
   },
   "outputs": [],
   "source": [
    "home['bhk'] = home['size'].str.split().str[0]\n",
    "home['bhk'].dropna(inplace = True)\n",
    "home['bhk'] = home['bhk'].astype('int')"
   ]
  },
  {
   "cell_type": "code",
   "execution_count": 40,
   "id": "95d0e7a3",
   "metadata": {
    "execution": {
     "iopub.execute_input": "2024-07-21T18:02:57.411733Z",
     "iopub.status.busy": "2024-07-21T18:02:57.410739Z",
     "iopub.status.idle": "2024-07-21T18:02:57.834378Z",
     "shell.execute_reply": "2024-07-21T18:02:57.833177Z"
    },
    "papermill": {
     "duration": 0.476837,
     "end_time": "2024-07-21T18:02:57.837247",
     "exception": false,
     "start_time": "2024-07-21T18:02:57.360410",
     "status": "completed"
    },
    "tags": []
   },
   "outputs": [
    {
     "data": {
      "image/png": "[encoded data removed]",
      "text/plain": [
       "<Figure size 2000x800 with 1 Axes>"
      ]
     },
     "metadata": {},
     "output_type": "display_data"
    }
   ],
   "source": [
    "plt.figure(figsize = (20,8))\n",
    "ax=sns.countplot(x = 'bhk', data = home)\n",
    "plt.xticks(rotation = 90)\n",
    "for p in ax.patches:\n",
    "    ax.annotate(int(p.get_height()), (p.get_x()+0.25, p.get_height()+1), va = 'bottom', color = 'black')"
   ]
  },
  {
   "cell_type": "code",
   "execution_count": 41,
   "id": "f6cc0420",
   "metadata": {
    "execution": {
     "iopub.execute_input": "2024-07-21T18:02:57.941414Z",
     "iopub.status.busy": "2024-07-21T18:02:57.940976Z",
     "iopub.status.idle": "2024-07-21T18:02:58.375859Z",
     "shell.execute_reply": "2024-07-21T18:02:58.374609Z"
    },
    "papermill": {
     "duration": 0.489946,
     "end_time": "2024-07-21T18:02:58.378904",
     "exception": false,
     "start_time": "2024-07-21T18:02:57.888958",
     "status": "completed"
    },
    "tags": []
   },
   "outputs": [
    {
     "data": {
      "image/png": "[encoded data removed]",
      "text/plain": [
       "<Figure size 2000x1000 with 1 Axes>"
      ]
     },
     "metadata": {},
     "output_type": "display_data"
    }
   ],
   "source": [
    "sns.boxplot(x = 'bhk', y = 'price', data = home)\n",
    "plt.show()"
   ]
  },
  {
   "cell_type": "code",
   "execution_count": 81,
   "id": "811fab87",
   "metadata": {
    "execution": {
     "iopub.execute_input": "2024-07-21T18:02:58.554005Z",
     "iopub.status.busy": "2024-07-21T18:02:58.553540Z",
     "iopub.status.idle": "2024-07-21T18:02:58.563532Z",
     "shell.execute_reply": "2024-07-21T18:02:58.561816Z"
    },
    "papermill": {
     "duration": 0.069725,
     "end_time": "2024-07-21T18:02:58.566253",
     "exception": false,
     "start_time": "2024-07-21T18:02:58.496528",
     "status": "completed"
    },
    "tags": []
   },
   "outputs": [
    {
     "name": "stdout",
     "output_type": "stream",
     "text": [
      "17    2100 - 2850\n",
      "Name: total_sqft, dtype: object\n"
     ]
    }
   ],
   "source": [
    "print(home['total_sqft'].iloc[[17]])\n",
    "\n",
    "def convert_sqft_to_num(x):\n",
    "    tokens = x.split('-')\n",
    "    if len(tokens) == 2:\n",
    "        return (float(tokens[0])+float(tokens[1]))/2\n",
    "    try:\n",
    "        return float(x)\n",
    "    except:\n",
    "        return None"
   ]
  },
  {
   "cell_type": "code",
   "execution_count": 82,
   "id": "ab49d4ca",
   "metadata": {
    "execution": {
     "iopub.execute_input": "2024-07-21T18:02:58.671877Z",
     "iopub.status.busy": "2024-07-21T18:02:58.671423Z",
     "iopub.status.idle": "2024-07-21T18:02:58.699021Z",
     "shell.execute_reply": "2024-07-21T18:02:58.697725Z"
    },
    "papermill": {
     "duration": 0.081912,
     "end_time": "2024-07-21T18:02:58.701694",
     "exception": false,
     "start_time": "2024-07-21T18:02:58.619782",
     "status": "completed"
    },
    "tags": []
   },
   "outputs": [
    {
     "data": {
      "text/html": [
       "<div>\n",
       "<style scoped>\n",
       "    .dataframe tbody tr th:only-of-type {\n",
       "        vertical-align: middle;\n",
       "    }\n",
       "\n",
       "    .dataframe tbody tr th {\n",
       "        vertical-align: top;\n",
       "    }\n",
       "\n",
       "    .dataframe thead th {\n",
       "        text-align: right;\n",
       "    }\n",
       "</style>\n",
       "<table border=\"1\" class=\"dataframe\">\n",
       "  <thead>\n",
       "    <tr style=\"text-align: right;\">\n",
       "      <th></th>\n",
       "      <th>area_type</th>\n",
       "      <th>availability</th>\n",
       "      <th>location</th>\n",
       "      <th>size</th>\n",
       "      <th>total_sqft</th>\n",
       "      <th>bath</th>\n",
       "      <th>balcony</th>\n",
       "      <th>price</th>\n",
       "      <th>bhk</th>\n",
       "    </tr>\n",
       "  </thead>\n",
       "  <tbody>\n",
       "    <tr>\n",
       "      <th>0</th>\n",
       "      <td>Super built-up  Area</td>\n",
       "      <td>19-Dec</td>\n",
       "      <td>Electronic City Phase II</td>\n",
       "      <td>2 BHK</td>\n",
       "      <td>1056.0</td>\n",
       "      <td>2.0</td>\n",
       "      <td>1.0</td>\n",
       "      <td>39.07</td>\n",
       "      <td>2</td>\n",
       "    </tr>\n",
       "    <tr>\n",
       "      <th>1</th>\n",
       "      <td>Plot  Area</td>\n",
       "      <td>Ready To Move</td>\n",
       "      <td>Chikka Tirupathi</td>\n",
       "      <td>4 Bedroom</td>\n",
       "      <td>2600.0</td>\n",
       "      <td>5.0</td>\n",
       "      <td>3.0</td>\n",
       "      <td>120.00</td>\n",
       "      <td>4</td>\n",
       "    </tr>\n",
       "  </tbody>\n",
       "</table>\n",
       "</div>"
      ],
      "text/plain": [
       "              area_type   availability                  location       size  \\\n",
       "0  Super built-up  Area         19-Dec  Electronic City Phase II      2 BHK   \n",
       "1            Plot  Area  Ready To Move          Chikka Tirupathi  4 Bedroom   \n",
       "\n",
       "   total_sqft  bath  balcony   price  bhk  \n",
       "0      1056.0   2.0      1.0   39.07    2  \n",
       "1      2600.0   5.0      3.0  120.00    4  "
      ]
     },
     "execution_count": 82,
     "metadata": {},
     "output_type": "execute_result"
    }
   ],
   "source": [
    "home.total_sqft = home.total_sqft.apply(convert_sqft_to_num)\n",
    "home = home[home.total_sqft.notnull()]\n",
    "home.head(2)"
   ]
  },
  {
   "cell_type": "markdown",
   "id": "d53c4494",
   "metadata": {
    "papermill": {
     "duration": 0.05077,
     "end_time": "2024-07-21T18:02:58.804306",
     "exception": false,
     "start_time": "2024-07-21T18:02:58.753536",
     "status": "completed"
    },
    "tags": []
   },
   "source": [
    "<h3 style=\"background-color: #e9ecef; \n",
    "           padding: 15px; \n",
    "           font: bold 22px Arial; \n",
    "           color: #495057; \n",
    "           border: 2px solid #adb5bd; \n",
    "           border-radius: 8px\">\n",
    "Removing Invalid Data Entries <br> <small style=\"color: #6c757d;\">Example: The total sqft divided by the number of BHK should always be more than 300</small>\n",
    "</h3>"
   ]
  },
  {
   "cell_type": "code",
   "execution_count": 83,
   "id": "f7852ccf",
   "metadata": {
    "execution": {
     "iopub.execute_input": "2024-07-21T18:02:58.908918Z",
     "iopub.status.busy": "2024-07-21T18:02:58.908484Z",
     "iopub.status.idle": "2024-07-21T18:02:58.918873Z",
     "shell.execute_reply": "2024-07-21T18:02:58.917572Z"
    },
    "papermill": {
     "duration": 0.066215,
     "end_time": "2024-07-21T18:02:58.921290",
     "exception": false,
     "start_time": "2024-07-21T18:02:58.855075",
     "status": "completed"
    },
    "tags": []
   },
   "outputs": [
    {
     "data": {
      "text/plain": [
       "(7478, 9)"
      ]
     },
     "execution_count": 83,
     "metadata": {},
     "output_type": "execute_result"
    }
   ],
   "source": [
    "home = home[~(home.total_sqft/home.bhk<200)]\n",
    "home.shape"
   ]
  },
  {
   "cell_type": "markdown",
   "id": "95bee009",
   "metadata": {
    "papermill": {
     "duration": 0.050555,
     "end_time": "2024-07-21T18:02:59.024114",
     "exception": false,
     "start_time": "2024-07-21T18:02:58.973559",
     "status": "completed"
    },
    "tags": []
   },
   "source": [
    "<h3 style=\"background-color: #f8f9fa; \n",
    "           padding: 15px; \n",
    "           font: bold 22px Arial; \n",
    "           color: #343a40; \n",
    "           border: 2px solid #6c757d; \n",
    "           border-radius: 8px\">\n",
    "Dividing the Dataset into Continuous and Categorical Variables\n",
    "</h3>"
   ]
  },
  {
   "cell_type": "code",
   "execution_count": 84,
   "id": "99948684",
   "metadata": {
    "execution": {
     "iopub.execute_input": "2024-07-21T18:02:59.130568Z",
     "iopub.status.busy": "2024-07-21T18:02:59.129715Z",
     "iopub.status.idle": "2024-07-21T18:02:59.137364Z",
     "shell.execute_reply": "2024-07-21T18:02:59.136145Z"
    },
    "papermill": {
     "duration": 0.063965,
     "end_time": "2024-07-21T18:02:59.140047",
     "exception": false,
     "start_time": "2024-07-21T18:02:59.076082",
     "status": "completed"
    },
    "tags": []
   },
   "outputs": [],
   "source": [
    "cont_ = home.select_dtypes(exclude = 'object')\n",
    "cat_ = home.select_dtypes(include  = 'object')"
   ]
  },
  {
   "cell_type": "markdown",
   "id": "36f04bc1",
   "metadata": {
    "papermill": {
     "duration": 0.050784,
     "end_time": "2024-07-21T18:02:59.243575",
     "exception": false,
     "start_time": "2024-07-21T18:02:59.192791",
     "status": "completed"
    },
    "tags": []
   },
   "source": [
    "<h3 style=\"background-color: #f1f3f5; \n",
    "           padding: 15px; \n",
    "           font: bold 22px Arial; \n",
    "           color: #212529; \n",
    "           border: 2px solid #ced4da; \n",
    "           border-radius: 8px\">\n",
    "Displaying Continuous Variables <br> <small style=\"color: #6c757d;\">To determine which variables have outliers and which need to be removed</small>\n",
    "</h3>"
   ]
  },
  {
   "cell_type": "code",
   "execution_count": 85,
   "id": "c6ec126a",
   "metadata": {
    "execution": {
     "iopub.execute_input": "2024-07-21T18:02:59.346755Z",
     "iopub.status.busy": "2024-07-21T18:02:59.346325Z",
     "iopub.status.idle": "2024-07-21T18:03:00.248182Z",
     "shell.execute_reply": "2024-07-21T18:03:00.246853Z"
    },
    "papermill": {
     "duration": 0.956898,
     "end_time": "2024-07-21T18:03:00.251131",
     "exception": false,
     "start_time": "2024-07-21T18:02:59.294233",
     "status": "completed"
    },
    "tags": []
   },
   "outputs": [
    {
     "data": {
      "image/png": "[encoded data removed]",
      "text/plain": [
       "<Figure size 1000x800 with 5 Axes>"
      ]
     },
     "metadata": {},
     "output_type": "display_data"
    }
   ],
   "source": [
    "fig = plt.figure(figsize = (10,8))\n",
    "for index,col in enumerate(cont_):\n",
    "    plt.subplot(3,2,index+1)\n",
    "    sns.boxplot(y = cont_.loc[:,col])\n",
    "fig.tight_layout(pad = 1.0)"
   ]
  },
  {
   "cell_type": "code",
   "execution_count": 86,
   "id": "7da13239",
   "metadata": {
    "execution": {
     "iopub.execute_input": "2024-07-21T18:03:00.359240Z",
     "iopub.status.busy": "2024-07-21T18:03:00.357854Z",
     "iopub.status.idle": "2024-07-21T18:03:00.368797Z",
     "shell.execute_reply": "2024-07-21T18:03:00.367716Z"
    },
    "papermill": {
     "duration": 0.067992,
     "end_time": "2024-07-21T18:03:00.371520",
     "exception": false,
     "start_time": "2024-07-21T18:03:00.303528",
     "status": "completed"
    },
    "tags": []
   },
   "outputs": [],
   "source": [
    "home = home.drop(home[home['bath']>6].index)\n",
    "home = home.drop(home[home['bhk']>7.0].index)"
   ]
  },
  {
   "cell_type": "code",
   "execution_count": 87,
   "id": "c41820e0",
   "metadata": {
    "execution": {
     "iopub.execute_input": "2024-07-21T18:03:00.481513Z",
     "iopub.status.busy": "2024-07-21T18:03:00.480784Z",
     "iopub.status.idle": "2024-07-21T18:03:00.501865Z",
     "shell.execute_reply": "2024-07-21T18:03:00.500749Z"
    },
    "papermill": {
     "duration": 0.077987,
     "end_time": "2024-07-21T18:03:00.504509",
     "exception": false,
     "start_time": "2024-07-21T18:03:00.426522",
     "status": "completed"
    },
    "tags": []
   },
   "outputs": [
    {
     "data": {
      "text/html": [
       "<div>\n",
       "<style scoped>\n",
       "    .dataframe tbody tr th:only-of-type {\n",
       "        vertical-align: middle;\n",
       "    }\n",
       "\n",
       "    .dataframe tbody tr th {\n",
       "        vertical-align: top;\n",
       "    }\n",
       "\n",
       "    .dataframe thead th {\n",
       "        text-align: right;\n",
       "    }\n",
       "</style>\n",
       "<table border=\"1\" class=\"dataframe\">\n",
       "  <thead>\n",
       "    <tr style=\"text-align: right;\">\n",
       "      <th></th>\n",
       "      <th>area_type</th>\n",
       "      <th>availability</th>\n",
       "      <th>location</th>\n",
       "      <th>size</th>\n",
       "      <th>total_sqft</th>\n",
       "      <th>bath</th>\n",
       "      <th>balcony</th>\n",
       "      <th>price</th>\n",
       "      <th>bhk</th>\n",
       "      <th>price_per_sqft</th>\n",
       "    </tr>\n",
       "  </thead>\n",
       "  <tbody>\n",
       "    <tr>\n",
       "      <th>0</th>\n",
       "      <td>Super built-up  Area</td>\n",
       "      <td>19-Dec</td>\n",
       "      <td>Electronic City Phase II</td>\n",
       "      <td>2 BHK</td>\n",
       "      <td>1056.0</td>\n",
       "      <td>2.0</td>\n",
       "      <td>1.0</td>\n",
       "      <td>39.07</td>\n",
       "      <td>2</td>\n",
       "      <td>3699.810606</td>\n",
       "    </tr>\n",
       "    <tr>\n",
       "      <th>1</th>\n",
       "      <td>Plot  Area</td>\n",
       "      <td>Ready To Move</td>\n",
       "      <td>Chikka Tirupathi</td>\n",
       "      <td>4 Bedroom</td>\n",
       "      <td>2600.0</td>\n",
       "      <td>5.0</td>\n",
       "      <td>3.0</td>\n",
       "      <td>120.00</td>\n",
       "      <td>4</td>\n",
       "      <td>4615.384615</td>\n",
       "    </tr>\n",
       "    <tr>\n",
       "      <th>2</th>\n",
       "      <td>Super built-up  Area</td>\n",
       "      <td>Ready To Move</td>\n",
       "      <td>Lingadheeranahalli</td>\n",
       "      <td>3 BHK</td>\n",
       "      <td>1521.0</td>\n",
       "      <td>3.0</td>\n",
       "      <td>1.0</td>\n",
       "      <td>95.00</td>\n",
       "      <td>3</td>\n",
       "      <td>6245.890861</td>\n",
       "    </tr>\n",
       "    <tr>\n",
       "      <th>3</th>\n",
       "      <td>Super built-up  Area</td>\n",
       "      <td>Ready To Move</td>\n",
       "      <td>Whitefield</td>\n",
       "      <td>2 BHK</td>\n",
       "      <td>1170.0</td>\n",
       "      <td>2.0</td>\n",
       "      <td>1.0</td>\n",
       "      <td>38.00</td>\n",
       "      <td>2</td>\n",
       "      <td>3247.863248</td>\n",
       "    </tr>\n",
       "    <tr>\n",
       "      <th>4</th>\n",
       "      <td>Plot  Area</td>\n",
       "      <td>Ready To Move</td>\n",
       "      <td>Whitefield</td>\n",
       "      <td>4 Bedroom</td>\n",
       "      <td>2785.0</td>\n",
       "      <td>5.0</td>\n",
       "      <td>3.0</td>\n",
       "      <td>295.00</td>\n",
       "      <td>4</td>\n",
       "      <td>10592.459605</td>\n",
       "    </tr>\n",
       "  </tbody>\n",
       "</table>\n",
       "</div>"
      ],
      "text/plain": [
       "              area_type   availability                  location       size  \\\n",
       "0  Super built-up  Area         19-Dec  Electronic City Phase II      2 BHK   \n",
       "1            Plot  Area  Ready To Move          Chikka Tirupathi  4 Bedroom   \n",
       "2  Super built-up  Area  Ready To Move        Lingadheeranahalli      3 BHK   \n",
       "3  Super built-up  Area  Ready To Move                Whitefield      2 BHK   \n",
       "4            Plot  Area  Ready To Move                Whitefield  4 Bedroom   \n",
       "\n",
       "   total_sqft  bath  balcony   price  bhk  price_per_sqft  \n",
       "0      1056.0   2.0      1.0   39.07    2     3699.810606  \n",
       "1      2600.0   5.0      3.0  120.00    4     4615.384615  \n",
       "2      1521.0   3.0      1.0   95.00    3     6245.890861  \n",
       "3      1170.0   2.0      1.0   38.00    2     3247.863248  \n",
       "4      2785.0   5.0      3.0  295.00    4    10592.459605  "
      ]
     },
     "execution_count": 87,
     "metadata": {},
     "output_type": "execute_result"
    }
   ],
   "source": [
    "home['price_per_sqft'] = home['price']*100000/home['total_sqft']\n",
    "home.head()"
   ]
  },
  {
   "cell_type": "code",
   "execution_count": 88,
   "id": "2c8dfece",
   "metadata": {
    "execution": {
     "iopub.execute_input": "2024-07-21T18:03:00.613655Z",
     "iopub.status.busy": "2024-07-21T18:03:00.612721Z",
     "iopub.status.idle": "2024-07-21T18:03:00.625874Z",
     "shell.execute_reply": "2024-07-21T18:03:00.624517Z"
    },
    "papermill": {
     "duration": 0.070739,
     "end_time": "2024-07-21T18:03:00.628682",
     "exception": false,
     "start_time": "2024-07-21T18:03:00.557943",
     "status": "completed"
    },
    "tags": []
   },
   "outputs": [
    {
     "data": {
      "text/plain": [
       "count     7471.000000\n",
       "mean      5853.051952\n",
       "std       2720.468727\n",
       "min        371.428571\n",
       "25%       4277.681409\n",
       "50%       5315.315315\n",
       "75%       6693.387739\n",
       "max      76530.612245\n",
       "Name: price_per_sqft, dtype: float64"
      ]
     },
     "execution_count": 88,
     "metadata": {},
     "output_type": "execute_result"
    }
   ],
   "source": [
    "home['price_per_sqft'].describe()"
   ]
  },
  {
   "cell_type": "markdown",
   "id": "263a854b",
   "metadata": {
    "execution": {
     "iopub.execute_input": "2024-07-21T16:30:31.465451Z",
     "iopub.status.busy": "2024-07-21T16:30:31.464935Z",
     "iopub.status.idle": "2024-07-21T16:30:31.475780Z",
     "shell.execute_reply": "2024-07-21T16:30:31.473280Z",
     "shell.execute_reply.started": "2024-07-21T16:30:31.465400Z"
    },
    "papermill": {
     "duration": 0.052495,
     "end_time": "2024-07-21T18:03:00.736496",
     "exception": false,
     "start_time": "2024-07-21T18:03:00.684001",
     "status": "completed"
    },
    "tags": []
   },
   "source": [
    "<h3 style=\"background-color: #e9ecef; \n",
    "           padding: 15px; \n",
    "           font: bold 22px Arial; \n",
    "           color: #495057; \n",
    "           border: 2px solid #adb5bd; \n",
    "           border-radius: 8px\">\n",
    "Taking Values Within 1st Standard Deviation <br> <small style=\"color: #6c757d;\">As per Normal Distribution, 95% of our data lies within 1st Standard Deviation</small>\n",
    "</h3>"
   ]
  },
  {
   "cell_type": "code",
   "execution_count": 89,
   "id": "6c32b9a1",
   "metadata": {
    "execution": {
     "iopub.execute_input": "2024-07-21T18:03:00.844438Z",
     "iopub.status.busy": "2024-07-21T18:03:00.844039Z",
     "iopub.status.idle": "2024-07-21T18:03:01.818572Z",
     "shell.execute_reply": "2024-07-21T18:03:01.817305Z"
    },
    "papermill": {
     "duration": 1.031843,
     "end_time": "2024-07-21T18:03:01.821307",
     "exception": false,
     "start_time": "2024-07-21T18:03:00.789464",
     "status": "completed"
    },
    "tags": []
   },
   "outputs": [
    {
     "data": {
      "text/plain": [
       "(5389, 10)"
      ]
     },
     "execution_count": 89,
     "metadata": {},
     "output_type": "execute_result"
    }
   ],
   "source": [
    "def remove_pps_outliers(df):\n",
    "    df_out = pd.DataFrame()\n",
    "    for key, subdf in df.groupby('location'):\n",
    "        m = np.mean(subdf.price_per_sqft)\n",
    "        st = np.std(subdf.price_per_sqft)\n",
    "        reduced_df = subdf[(subdf.price_per_sqft>(m-st)) & (subdf.price_per_sqft<=(m+st))]\n",
    "        df_out = pd.concat([df_out,reduced_df],ignore_index=True)\n",
    "    return df_out\n",
    "home = remove_pps_outliers(home)\n",
    "home.shape"
   ]
  },
  {
   "cell_type": "markdown",
   "id": "e19b4e8d",
   "metadata": {
    "papermill": {
     "duration": 0.053872,
     "end_time": "2024-07-21T18:03:01.929089",
     "exception": false,
     "start_time": "2024-07-21T18:03:01.875217",
     "status": "completed"
    },
    "tags": []
   },
   "source": [
    "<h3 style=\"background-color: #f8f9fa; \n",
    "           padding: 15px; \n",
    "           font: bold 22px Arial; \n",
    "           color: #343a40; \n",
    "           border: 2px solid #6c757d; \n",
    "           border-radius: 8px\">\n",
    "Finding Correlation Values <br> <small style=\"color: #6c757d;\">Removing features highly correlated with each other as they do not provide additional significance to the model</small>\n",
    "</h3>"
   ]
  },
  {
   "cell_type": "code",
   "execution_count": 51,
   "id": "50eb4166",
   "metadata": {
    "execution": {
     "iopub.execute_input": "2024-07-21T18:03:02.037814Z",
     "iopub.status.busy": "2024-07-21T18:03:02.037366Z",
     "iopub.status.idle": "2024-07-21T18:03:02.679361Z",
     "shell.execute_reply": "2024-07-21T18:03:02.678068Z"
    },
    "papermill": {
     "duration": 0.6984,
     "end_time": "2024-07-21T18:03:02.682134",
     "exception": false,
     "start_time": "2024-07-21T18:03:01.983734",
     "status": "completed"
    },
    "tags": []
   },
   "outputs": [],
   "source": [
    "# import plotly.graph_objects as go\n",
    "\n",
    "# corr = home.corr(numeric_only=True)\n",
    "\n",
    "# # Masking correlations less than 0.8\n",
    "# mask = corr < 0.8\n",
    "# corr_masked = corr.copy()\n",
    "# corr_masked[mask] = np.nan\n",
    "\n",
    "# fig = go.Figure(data=go.Heatmap(\n",
    "#     z=corr_masked.values,\n",
    "#     x=corr_masked.columns,\n",
    "#     y=corr_masked.columns,\n",
    "#     colorscale='Blues',\n",
    "#     zmin=-1, zmax=1,\n",
    "#     colorbar=dict(title='Correlation'),\n",
    "#     showscale=True\n",
    "# ))\n",
    "\n",
    "# fig.update_layout(\n",
    "#     title='Correlation Heatmap',\n",
    "#     xaxis_title='Features',\n",
    "#     yaxis_title='Features',\n",
    "#     xaxis=dict(tickvals=list(corr_masked.columns), ticktext=list(corr_masked.columns)),\n",
    "#     yaxis=dict(tickvals=list(corr_masked.columns), ticktext=list(corr_masked.columns)),\n",
    "#     height=800,  # Adjust height for better fit\n",
    "#     width=800,   # Adjust width for better fit\n",
    "#     margin=dict(l=50, r=50, t=50, b=50)\n",
    "# )\n",
    "\n",
    "# fig.show()"
   ]
  },
  {
   "cell_type": "code",
   "execution_count": 90,
   "id": "95061a04",
   "metadata": {
    "execution": {
     "iopub.execute_input": "2024-07-21T18:03:02.791557Z",
     "iopub.status.busy": "2024-07-21T18:03:02.791138Z",
     "iopub.status.idle": "2024-07-21T18:03:02.798849Z",
     "shell.execute_reply": "2024-07-21T18:03:02.797548Z"
    },
    "papermill": {
     "duration": 0.064873,
     "end_time": "2024-07-21T18:03:02.801476",
     "exception": false,
     "start_time": "2024-07-21T18:03:02.736603",
     "status": "completed"
    },
    "tags": []
   },
   "outputs": [],
   "source": [
    "home.drop(columns=['availability','size','area_type'],inplace = True)"
   ]
  },
  {
   "cell_type": "markdown",
   "id": "67d112d7",
   "metadata": {
    "papermill": {
     "duration": 0.058671,
     "end_time": "2024-07-21T18:03:02.914238",
     "exception": false,
     "start_time": "2024-07-21T18:03:02.855567",
     "status": "completed"
    },
    "tags": []
   },
   "source": [
    "<h3 style=\"background-color: #f1f3f5; \n",
    "           padding: 15px; \n",
    "           font: bold 22px Arial; \n",
    "           color: #212529; \n",
    "           border: 2px solid #ced4da; \n",
    "           border-radius: 8px\">\n",
    "Checking Dataset with Highest Location Data <br> <small style=\"color: #6c757d;\">Because having values for a location less than 10 won't provide significant information for the dataset</small>\n",
    "</h3>\n"
   ]
  },
  {
   "cell_type": "code",
   "execution_count": 91,
   "id": "14d5a55d",
   "metadata": {
    "execution": {
     "iopub.execute_input": "2024-07-21T18:03:03.030510Z",
     "iopub.status.busy": "2024-07-21T18:03:03.029548Z",
     "iopub.status.idle": "2024-07-21T18:03:03.044067Z",
     "shell.execute_reply": "2024-07-21T18:03:03.042850Z"
    },
    "papermill": {
     "duration": 0.07808,
     "end_time": "2024-07-21T18:03:03.046487",
     "exception": false,
     "start_time": "2024-07-21T18:03:02.968407",
     "status": "completed"
    },
    "tags": []
   },
   "outputs": [
    {
     "data": {
      "text/plain": [
       "location\n",
       "Whitefield            357\n",
       "Sarjapur  Road        240\n",
       "Electronic City       225\n",
       "Kanakpura Road        157\n",
       "Yelahanka             141\n",
       "                     ... \n",
       "Vadarpalya              1\n",
       "Veer Sandra             1\n",
       "Varsova Layout          1\n",
       "2nd Phase JP Nagar      1\n",
       "Veersandra              1\n",
       "Name: count, Length: 430, dtype: int64"
      ]
     },
     "execution_count": 91,
     "metadata": {},
     "output_type": "execute_result"
    }
   ],
   "source": [
    "home.location = home.location.str.strip()\n",
    "location_stats = home['location'].value_counts(ascending=False)\n",
    "location_stats"
   ]
  },
  {
   "cell_type": "markdown",
   "id": "9c7a66b1",
   "metadata": {
    "execution": {
     "iopub.execute_input": "2024-07-21T16:35:54.767084Z",
     "iopub.status.busy": "2024-07-21T16:35:54.765579Z",
     "iopub.status.idle": "2024-07-21T16:35:54.776003Z",
     "shell.execute_reply": "2024-07-21T16:35:54.774181Z",
     "shell.execute_reply.started": "2024-07-21T16:35:54.767037Z"
    },
    "papermill": {
     "duration": 0.068418,
     "end_time": "2024-07-21T18:03:03.180238",
     "exception": false,
     "start_time": "2024-07-21T18:03:03.111820",
     "status": "completed"
    },
    "tags": []
   },
   "source": [
    "<h3 style=\"background-color: #e9ecef; \n",
    "           padding: 15px; \n",
    "           font: bold 22px Arial; \n",
    "           color: #495057; \n",
    "           border: 2px solid #adb5bd; \n",
    "           border-radius: 8px\">\n",
    "Creating a Series of Locations with Fewer Than 10 Entries <br> <small style=\"color: #6c757d;\">Identifying locations with less than 10 entries to assess their impact on the dataset</small>\n",
    "</h3>"
   ]
  },
  {
   "cell_type": "code",
   "execution_count": 92,
   "id": "69bc0e20",
   "metadata": {
    "execution": {
     "iopub.execute_input": "2024-07-21T18:03:03.290851Z",
     "iopub.status.busy": "2024-07-21T18:03:03.290443Z",
     "iopub.status.idle": "2024-07-21T18:03:03.300090Z",
     "shell.execute_reply": "2024-07-21T18:03:03.298854Z"
    },
    "papermill": {
     "duration": 0.068063,
     "end_time": "2024-07-21T18:03:03.302587",
     "exception": false,
     "start_time": "2024-07-21T18:03:03.234524",
     "status": "completed"
    },
    "tags": []
   },
   "outputs": [
    {
     "data": {
      "text/plain": [
       "location\n",
       "5th Phase JP Nagar    10\n",
       "Gubbalala             10\n",
       "Munnekollal           10\n",
       "Neeladri Nagar        10\n",
       "Kannamangala          10\n",
       "                      ..\n",
       "Vadarpalya             1\n",
       "Veer Sandra            1\n",
       "Varsova Layout         1\n",
       "2nd Phase JP Nagar     1\n",
       "Veersandra             1\n",
       "Name: count, Length: 319, dtype: int64"
      ]
     },
     "execution_count": 92,
     "metadata": {},
     "output_type": "execute_result"
    }
   ],
   "source": [
    "location_stats_less_than_10 = location_stats[location_stats<=10]\n",
    "location_stats_less_than_10"
   ]
  },
  {
   "cell_type": "code",
   "execution_count": 93,
   "id": "6dfc7b66",
   "metadata": {
    "execution": {
     "iopub.execute_input": "2024-07-21T18:03:03.414605Z",
     "iopub.status.busy": "2024-07-21T18:03:03.414181Z",
     "iopub.status.idle": "2024-07-21T18:03:03.441888Z",
     "shell.execute_reply": "2024-07-21T18:03:03.440685Z"
    },
    "papermill": {
     "duration": 0.087074,
     "end_time": "2024-07-21T18:03:03.444712",
     "exception": false,
     "start_time": "2024-07-21T18:03:03.357638",
     "status": "completed"
    },
    "tags": []
   },
   "outputs": [],
   "source": [
    "home.location = home.location.apply(lambda x: 'other' if x in location_stats_less_than_10 else x)\n",
    "\n",
    "home = home[home.location != 'other']"
   ]
  },
  {
   "cell_type": "markdown",
   "id": "3b1d205c",
   "metadata": {
    "papermill": {
     "duration": 0.060453,
     "end_time": "2024-07-21T18:03:03.564086",
     "exception": false,
     "start_time": "2024-07-21T18:03:03.503633",
     "status": "completed"
    },
    "tags": []
   },
   "source": [
    "<h3 style=\"background-color: #f8f9fa; \n",
    "           padding: 15px; \n",
    "           font: bold 22px Arial; \n",
    "           color: #343a40; \n",
    "           border: 2px solid #6c757d; \n",
    "           border-radius: 8px\">\n",
    "Ensuring Bathroom Count ≤ BHK + 2 <br> <small style=\"color: #6c757d;\">Example: For a 3 BHK, the number of bathrooms shouldn't exceed 5</small>\n",
    "</h3>"
   ]
  },
  {
   "cell_type": "code",
   "execution_count": 94,
   "id": "d9365d42",
   "metadata": {
    "execution": {
     "iopub.execute_input": "2024-07-21T18:03:03.678942Z",
     "iopub.status.busy": "2024-07-21T18:03:03.678503Z",
     "iopub.status.idle": "2024-07-21T18:03:03.686199Z",
     "shell.execute_reply": "2024-07-21T18:03:03.685017Z"
    },
    "papermill": {
     "duration": 0.068835,
     "end_time": "2024-07-21T18:03:03.689390",
     "exception": false,
     "start_time": "2024-07-21T18:03:03.620555",
     "status": "completed"
    },
    "tags": []
   },
   "outputs": [],
   "source": [
    "home = home[home.bath<home.bhk+2]"
   ]
  },
  {
   "cell_type": "code",
   "execution_count": 95,
   "id": "66fe5852",
   "metadata": {
    "execution": {
     "iopub.execute_input": "2024-07-21T18:03:03.804503Z",
     "iopub.status.busy": "2024-07-21T18:03:03.804073Z",
     "iopub.status.idle": "2024-07-21T18:03:05.649824Z",
     "shell.execute_reply": "2024-07-21T18:03:05.648532Z"
    },
    "papermill": {
     "duration": 1.905507,
     "end_time": "2024-07-21T18:03:05.652815",
     "exception": false,
     "start_time": "2024-07-21T18:03:03.747308",
     "status": "completed"
    },
    "tags": []
   },
   "outputs": [
    {
     "data": {
      "image/png": "[encoded data removed]",
      "text/plain": [
       "<Figure size 1000x800 with 6 Axes>"
      ]
     },
     "metadata": {},
     "output_type": "display_data"
    }
   ],
   "source": [
    "num_ = home.select_dtypes(exclude = 'object')\n",
    "fig = plt.figure(figsize =(10,8))\n",
    "for index, col in enumerate(num_):\n",
    "    plt.subplot(3,2,index+1)\n",
    "    sns.distplot(num_.loc[:,col],kde = False)\n",
    "fig.tight_layout(pad = 1.0)  "
   ]
  },
  {
   "cell_type": "markdown",
   "id": "bd2f8bf7",
   "metadata": {
    "papermill": {
     "duration": 0.056433,
     "end_time": "2024-07-21T18:03:05.765741",
     "exception": false,
     "start_time": "2024-07-21T18:03:05.709308",
     "status": "completed"
    },
    "tags": []
   },
   "source": [
    "<h3 style=\"background-color: #f1f3f5; \n",
    "           padding: 15px; \n",
    "           font: bold 22px Arial; \n",
    "           color: #212529; \n",
    "           border: 2px solid #ced4da; \n",
    "           border-radius: 8px\">\n",
    "Performing One-Hot Encoding on Categorical Values <br> <small style=\"color: #6c757d;\">1st Step: Create Dummies</small>\n",
    "</h3>"
   ]
  },
  {
   "cell_type": "code",
   "execution_count": 107,
   "id": "9f5c0391",
   "metadata": {
    "execution": {
     "iopub.execute_input": "2024-07-21T18:03:05.879277Z",
     "iopub.status.busy": "2024-07-21T18:03:05.878841Z",
     "iopub.status.idle": "2024-07-21T18:03:05.887145Z",
     "shell.execute_reply": "2024-07-21T18:03:05.885686Z"
    },
    "papermill": {
     "duration": 0.06833,
     "end_time": "2024-07-21T18:03:05.889804",
     "exception": false,
     "start_time": "2024-07-21T18:03:05.821474",
     "status": "completed"
    },
    "tags": []
   },
   "outputs": [
    {
     "data": {
      "text/plain": [
       "7th Phase JP Nagar  8th Phase JP Nagar  9th Phase JP Nagar  Abbigere  Akshaya Nagar  Ambalipura  Ambedkar Nagar  Ardendale  Attibele  BTM 2nd Stage  Balagere  Banashankari  Bannerghatta Road  Begur  Begur Road  Bellandur  Bhoganhalli  Binny Pete  Bisuvanahalli  Bommasandra  Brookefield  Budigere  CV Raman Nagar  Chandapura  Channasandra  Choodasandra  Devanahalli  Doddathoguru  EPIP Zone  Electronic City  Electronic City Phase II  Electronics City Phase 1  Frazer Town  Gottigere  Green Glen Layout  Gunjur  HSR Layout  Haralur Road  Harlur  Hebbal  Hebbal Kempapura  Hegde Nagar  Hennur  Hennur Road  Hoodi  Horamavu Agara  Hormavu  Hosa Road  Hosakerehalli  Hoskote  Hosur Road  Hulimavu  Iblur Village  Indira Nagar  JP Nagar  Jakkur  Jalahalli  Jigani  KR Puram  Kadugodi  Kaggadasapura  Kaggalipura  Kalena Agrahara  Kambipura  Kammasandra  Kanakapura  Kanakpura Road  Kasavanhalli  Kengeri  Kengeri Satellite Town  Kereguddadahalli  Kodichikkanahalli  Koramangala  Kothanur  Kudlu  Kudlu Gate  Kundalahalli  Lakshminarayana Pura  Lingadheeranahalli  Magadi Road  Mahadevpura  Malleshwaram  Marathahalli  Mysore Road  Old Airport Road  Old Madras Road  Panathur  Rachenahalli  Raja Rajeshwari Nagar  Rajaji Nagar  Ramagondanahalli  Ramamurthy Nagar  Sahakara Nagar  Sarjapur  Sarjapur  Road  Somasundara Palya  Sonnenahalli  Subramanyapura  Talaghattapura  Thanisandra  Thigalarapalya  Thubarahalli  Tumkur Road  Uttarahalli  Varthur  Vijayanagar  Vittasandra  Whitefield  Yelahanka  Yelahanka New Town  Yeshwanthpur\n",
       "False               False               False               False     False          False       False           False      False     False          False     False         False              False  False       False      False        False       False          False        False        False     False           False       False         False         False        False         False      False            False                     False                     False        False      False              False   False       False         False   False   False             False        False   False        False  False           False    False      False          False    False       False     False          False         False     False   False      False   False     False     False          False        False            False      False        False       False           False         False    False                   False             False              False        False     False  False       False         False                 False               False        False        False         False         False        False             False            False     False         False                  False         False             False             False           False     False           False              False         False           False           False        False           False         False        False        False    False        False        True        False      False               False           355\n",
       "                                                                                                                                                                                                                                                                                                                                                                                                                                                                                                                                                                                                                                                                                                                                                                                                                                                                                                                                                                                                                                                                                                                                                                                                                                                                                                                                     True            False              False         False           False           False        False           False         False        False        False    False        False        False       False      False               False           236\n",
       "                                                                                                                                                                                                                                                                                                                                                                                                        True             False                     False                     False        False      False              False   False       False         False   False   False             False        False   False        False  False           False    False      False          False    False       False     False          False         False     False   False      False   False     False     False          False        False            False      False        False       False           False         False    False                   False             False              False        False     False  False       False         False                 False               False        False        False         False         False        False             False            False     False         False                  False         False             False             False           False     False           False              False         False           False           False        False           False         False        False        False    False        False        False       False      False               False           225\n",
       "                                                                                                                                                                                                                                                                                                                                                                                                        False            False                     False                     False        False      False              False   False       False         False   False   False             False        False   False        False  False           False    False      False          False    False       False     False          False         False     False   False      False   False     False     False          False        False            False      False        False       True            False         False    False                   False             False              False        False     False  False       False         False                 False               False        False        False         False         False        False             False            False     False         False                  False         False             False             False           False     False           False              False         False           False           False        False           False         False        False        False    False        False        False       False      False               False           156\n",
       "                                                                                                                                                                                                                                                                                                                                                                                                                                                                                                                                                                                                                                                                                                                                                                                                                                                                                              False           False         False    False                   False             False              False        False     False  False       False         False                 False               False        False        False         False         False        False             False            False     False         False                  False         False             False             False           False     False           False              False         False           False           False        False           False         False        False        False    False        False        False       True       False               False           140\n",
       "                                                                                                                                                                                                                                                                                                                                                                                                                                                                                                                                                                                                                                                                                                                                                                                                                                                                                                                                                                                                                                                                                                                                                                                                                                                                                                                                                                                                                                                                                                                                                                                        ... \n",
       "                                                                                                                                                                                                                                                                                                                                                                                                                                                                                                                                                                                                                                                                                                                                                                                                                                                                                                                                                                                                                                                                                                                 True         False         False         False        False             False            False     False         False                  False         False             False             False           False     False           False              False         False           False           False        False           False         False        False        False    False        False        False       False      False               False            11\n",
       "                                                                                                                                                                                                                                                                                                                                                                                                                                                                                                                                                                                                                                     True            False    False      False          False    False       False     False          False         False     False   False      False   False     False     False          False        False            False      False        False       False           False         False    False                   False             False              False        False     False  False       False         False                 False               False        False        False         False         False        False             False            False     False         False                  False         False             False             False           False     False           False              False         False           False           False        False           False         False        False        False    False        False        False       False      False               False            11\n",
       "                                                                                                                                                                                                                                                                                                                                                                                                                                                                                                                                                                                                                                     False           False    False      False          False    False       False     False          True          False     False   False      False   False     False     False          False        False            False      False        False       False           False         False    False                   False             False              False        False     False  False       False         False                 False               False        False        False         False         False        False             False            False     False         False                  False         False             False             False           False     False           False              False         False           False           False        False           False         False        False        False    False        False        False       False      False               False            11\n",
       "                                                                                     True        False           False      False     False          False     False         False              False  False       False      False        False       False          False        False        False     False           False       False         False         False        False         False      False            False                     False                     False        False      False              False   False       False         False   False   False             False        False   False        False  False           False    False      False          False    False       False     False          False         False     False   False      False   False     False     False          False        False            False      False        False       False           False         False    False                   False             False              False        False     False  False       False         False                 False               False        False        False         False         False        False             False            False     False         False                  False         False             False             False           False     False           False              False         False           False           False        False           False         False        False        False    False        False        False       False      False               False            11\n",
       "                                                                                     False       False           False      False     False          False     False         False              False  False       False      False        True        False          False        False        False     False           False       False         False         False        False         False      False            False                     False                     False        False      False              False   False       False         False   False   False             False        False   False        False  False           False    False      False          False    False       False     False          False         False     False   False      False   False     False     False          False        False            False      False        False       False           False         False    False                   False             False              False        False     False  False       False         False                 False               False        False        False         False         False        False             False            False     False         False                  False         False             False             False           False     False           False              False         False           False           False        False           False         False        False        False    False        False        False       False      False               False             8\n",
       "Name: count, Length: 111, dtype: int64"
      ]
     },
     "execution_count": 107,
     "metadata": {},
     "output_type": "execute_result"
    }
   ],
   "source": [
    "dummies = pd.get_dummies(home.location)\n"
   ]
  },
  {
   "cell_type": "code",
   "execution_count": 97,
   "id": "cce03918",
   "metadata": {
    "execution": {
     "iopub.execute_input": "2024-07-21T18:03:06.004949Z",
     "iopub.status.busy": "2024-07-21T18:03:06.004504Z",
     "iopub.status.idle": "2024-07-21T18:03:06.015550Z",
     "shell.execute_reply": "2024-07-21T18:03:06.014273Z"
    },
    "papermill": {
     "duration": 0.072432,
     "end_time": "2024-07-21T18:03:06.018360",
     "exception": false,
     "start_time": "2024-07-21T18:03:05.945928",
     "status": "completed"
    },
    "tags": []
   },
   "outputs": [],
   "source": [
    "\n",
    "home = pd.concat([home,dummies],axis='columns')\n",
    "\n",
    "home1 = home.drop('location',axis = 1)\n",
    "\n",
    "home1 = home1.drop(columns=['balcony','price_per_sqft'])"
   ]
  },
  {
   "cell_type": "code",
   "execution_count": 102,
   "id": "172bfdc5",
   "metadata": {
    "execution": {
     "iopub.execute_input": "2024-07-21T18:03:06.133550Z",
     "iopub.status.busy": "2024-07-21T18:03:06.132618Z",
     "iopub.status.idle": "2024-07-21T18:03:06.168386Z",
     "shell.execute_reply": "2024-07-21T18:03:06.167022Z"
    },
    "papermill": {
     "duration": 0.096741,
     "end_time": "2024-07-21T18:03:06.171117",
     "exception": false,
     "start_time": "2024-07-21T18:03:06.074376",
     "status": "completed"
    },
    "tags": []
   },
   "outputs": [
    {
     "data": {
      "text/html": [
       "<div>\n",
       "<style scoped>\n",
       "    .dataframe tbody tr th:only-of-type {\n",
       "        vertical-align: middle;\n",
       "    }\n",
       "\n",
       "    .dataframe tbody tr th {\n",
       "        vertical-align: top;\n",
       "    }\n",
       "\n",
       "    .dataframe thead th {\n",
       "        text-align: right;\n",
       "    }\n",
       "</style>\n",
       "<table border=\"1\" class=\"dataframe\">\n",
       "  <thead>\n",
       "    <tr style=\"text-align: right;\">\n",
       "      <th></th>\n",
       "      <th>total_sqft</th>\n",
       "      <th>bath</th>\n",
       "      <th>price</th>\n",
       "      <th>bhk</th>\n",
       "      <th>7th Phase JP Nagar</th>\n",
       "      <th>8th Phase JP Nagar</th>\n",
       "      <th>9th Phase JP Nagar</th>\n",
       "      <th>Abbigere</th>\n",
       "      <th>Akshaya Nagar</th>\n",
       "      <th>Ambalipura</th>\n",
       "      <th>...</th>\n",
       "      <th>Thubarahalli</th>\n",
       "      <th>Tumkur Road</th>\n",
       "      <th>Uttarahalli</th>\n",
       "      <th>Varthur</th>\n",
       "      <th>Vijayanagar</th>\n",
       "      <th>Vittasandra</th>\n",
       "      <th>Whitefield</th>\n",
       "      <th>Yelahanka</th>\n",
       "      <th>Yelahanka New Town</th>\n",
       "      <th>Yeshwanthpur</th>\n",
       "    </tr>\n",
       "  </thead>\n",
       "  <tbody>\n",
       "    <tr>\n",
       "      <th>0</th>\n",
       "      <td>550.0</td>\n",
       "      <td>1.0</td>\n",
       "      <td>27.00</td>\n",
       "      <td>1</td>\n",
       "      <td>False</td>\n",
       "      <td>False</td>\n",
       "      <td>False</td>\n",
       "      <td>False</td>\n",
       "      <td>False</td>\n",
       "      <td>False</td>\n",
       "      <td>...</td>\n",
       "      <td>False</td>\n",
       "      <td>False</td>\n",
       "      <td>False</td>\n",
       "      <td>False</td>\n",
       "      <td>False</td>\n",
       "      <td>False</td>\n",
       "      <td>False</td>\n",
       "      <td>False</td>\n",
       "      <td>False</td>\n",
       "      <td>False</td>\n",
       "    </tr>\n",
       "    <tr>\n",
       "      <th>1</th>\n",
       "      <td>440.0</td>\n",
       "      <td>1.0</td>\n",
       "      <td>28.00</td>\n",
       "      <td>1</td>\n",
       "      <td>False</td>\n",
       "      <td>False</td>\n",
       "      <td>False</td>\n",
       "      <td>False</td>\n",
       "      <td>False</td>\n",
       "      <td>False</td>\n",
       "      <td>...</td>\n",
       "      <td>False</td>\n",
       "      <td>False</td>\n",
       "      <td>False</td>\n",
       "      <td>False</td>\n",
       "      <td>False</td>\n",
       "      <td>False</td>\n",
       "      <td>False</td>\n",
       "      <td>False</td>\n",
       "      <td>False</td>\n",
       "      <td>False</td>\n",
       "    </tr>\n",
       "    <tr>\n",
       "      <th>2</th>\n",
       "      <td>510.0</td>\n",
       "      <td>1.0</td>\n",
       "      <td>25.25</td>\n",
       "      <td>1</td>\n",
       "      <td>False</td>\n",
       "      <td>False</td>\n",
       "      <td>False</td>\n",
       "      <td>False</td>\n",
       "      <td>False</td>\n",
       "      <td>False</td>\n",
       "      <td>...</td>\n",
       "      <td>False</td>\n",
       "      <td>False</td>\n",
       "      <td>False</td>\n",
       "      <td>False</td>\n",
       "      <td>False</td>\n",
       "      <td>False</td>\n",
       "      <td>False</td>\n",
       "      <td>False</td>\n",
       "      <td>False</td>\n",
       "      <td>False</td>\n",
       "    </tr>\n",
       "    <tr>\n",
       "      <th>3</th>\n",
       "      <td>510.0</td>\n",
       "      <td>1.0</td>\n",
       "      <td>25.25</td>\n",
       "      <td>1</td>\n",
       "      <td>False</td>\n",
       "      <td>False</td>\n",
       "      <td>False</td>\n",
       "      <td>False</td>\n",
       "      <td>False</td>\n",
       "      <td>False</td>\n",
       "      <td>...</td>\n",
       "      <td>False</td>\n",
       "      <td>False</td>\n",
       "      <td>False</td>\n",
       "      <td>False</td>\n",
       "      <td>False</td>\n",
       "      <td>False</td>\n",
       "      <td>False</td>\n",
       "      <td>False</td>\n",
       "      <td>False</td>\n",
       "      <td>False</td>\n",
       "    </tr>\n",
       "    <tr>\n",
       "      <th>4</th>\n",
       "      <td>1080.0</td>\n",
       "      <td>2.0</td>\n",
       "      <td>72.00</td>\n",
       "      <td>2</td>\n",
       "      <td>True</td>\n",
       "      <td>False</td>\n",
       "      <td>False</td>\n",
       "      <td>False</td>\n",
       "      <td>False</td>\n",
       "      <td>False</td>\n",
       "      <td>...</td>\n",
       "      <td>False</td>\n",
       "      <td>False</td>\n",
       "      <td>False</td>\n",
       "      <td>False</td>\n",
       "      <td>False</td>\n",
       "      <td>False</td>\n",
       "      <td>False</td>\n",
       "      <td>False</td>\n",
       "      <td>False</td>\n",
       "      <td>False</td>\n",
       "    </tr>\n",
       "    <tr>\n",
       "      <th>...</th>\n",
       "      <td>...</td>\n",
       "      <td>...</td>\n",
       "      <td>...</td>\n",
       "      <td>...</td>\n",
       "      <td>...</td>\n",
       "      <td>...</td>\n",
       "      <td>...</td>\n",
       "      <td>...</td>\n",
       "      <td>...</td>\n",
       "      <td>...</td>\n",
       "      <td>...</td>\n",
       "      <td>...</td>\n",
       "      <td>...</td>\n",
       "      <td>...</td>\n",
       "      <td>...</td>\n",
       "      <td>...</td>\n",
       "      <td>...</td>\n",
       "      <td>...</td>\n",
       "      <td>...</td>\n",
       "      <td>...</td>\n",
       "      <td>...</td>\n",
       "    </tr>\n",
       "    <tr>\n",
       "      <th>4298</th>\n",
       "      <td>1169.0</td>\n",
       "      <td>2.0</td>\n",
       "      <td>64.08</td>\n",
       "      <td>2</td>\n",
       "      <td>False</td>\n",
       "      <td>False</td>\n",
       "      <td>False</td>\n",
       "      <td>False</td>\n",
       "      <td>False</td>\n",
       "      <td>False</td>\n",
       "      <td>...</td>\n",
       "      <td>False</td>\n",
       "      <td>False</td>\n",
       "      <td>False</td>\n",
       "      <td>False</td>\n",
       "      <td>False</td>\n",
       "      <td>False</td>\n",
       "      <td>False</td>\n",
       "      <td>False</td>\n",
       "      <td>False</td>\n",
       "      <td>True</td>\n",
       "    </tr>\n",
       "    <tr>\n",
       "      <th>4299</th>\n",
       "      <td>2500.0</td>\n",
       "      <td>3.0</td>\n",
       "      <td>138.00</td>\n",
       "      <td>3</td>\n",
       "      <td>False</td>\n",
       "      <td>False</td>\n",
       "      <td>False</td>\n",
       "      <td>False</td>\n",
       "      <td>False</td>\n",
       "      <td>False</td>\n",
       "      <td>...</td>\n",
       "      <td>False</td>\n",
       "      <td>False</td>\n",
       "      <td>False</td>\n",
       "      <td>False</td>\n",
       "      <td>False</td>\n",
       "      <td>False</td>\n",
       "      <td>False</td>\n",
       "      <td>False</td>\n",
       "      <td>False</td>\n",
       "      <td>True</td>\n",
       "    </tr>\n",
       "    <tr>\n",
       "      <th>4300</th>\n",
       "      <td>1160.0</td>\n",
       "      <td>2.0</td>\n",
       "      <td>64.08</td>\n",
       "      <td>2</td>\n",
       "      <td>False</td>\n",
       "      <td>False</td>\n",
       "      <td>False</td>\n",
       "      <td>False</td>\n",
       "      <td>False</td>\n",
       "      <td>False</td>\n",
       "      <td>...</td>\n",
       "      <td>False</td>\n",
       "      <td>False</td>\n",
       "      <td>False</td>\n",
       "      <td>False</td>\n",
       "      <td>False</td>\n",
       "      <td>False</td>\n",
       "      <td>False</td>\n",
       "      <td>False</td>\n",
       "      <td>False</td>\n",
       "      <td>True</td>\n",
       "    </tr>\n",
       "    <tr>\n",
       "      <th>4301</th>\n",
       "      <td>2503.0</td>\n",
       "      <td>3.0</td>\n",
       "      <td>138.00</td>\n",
       "      <td>3</td>\n",
       "      <td>False</td>\n",
       "      <td>False</td>\n",
       "      <td>False</td>\n",
       "      <td>False</td>\n",
       "      <td>False</td>\n",
       "      <td>False</td>\n",
       "      <td>...</td>\n",
       "      <td>False</td>\n",
       "      <td>False</td>\n",
       "      <td>False</td>\n",
       "      <td>False</td>\n",
       "      <td>False</td>\n",
       "      <td>False</td>\n",
       "      <td>False</td>\n",
       "      <td>False</td>\n",
       "      <td>False</td>\n",
       "      <td>True</td>\n",
       "    </tr>\n",
       "    <tr>\n",
       "      <th>4302</th>\n",
       "      <td>1855.0</td>\n",
       "      <td>3.0</td>\n",
       "      <td>135.00</td>\n",
       "      <td>3</td>\n",
       "      <td>False</td>\n",
       "      <td>False</td>\n",
       "      <td>False</td>\n",
       "      <td>False</td>\n",
       "      <td>False</td>\n",
       "      <td>False</td>\n",
       "      <td>...</td>\n",
       "      <td>False</td>\n",
       "      <td>False</td>\n",
       "      <td>False</td>\n",
       "      <td>False</td>\n",
       "      <td>False</td>\n",
       "      <td>False</td>\n",
       "      <td>False</td>\n",
       "      <td>False</td>\n",
       "      <td>False</td>\n",
       "      <td>True</td>\n",
       "    </tr>\n",
       "  </tbody>\n",
       "</table>\n",
       "<p>4303 rows × 115 columns</p>\n",
       "</div>"
      ],
      "text/plain": [
       "      total_sqft  bath   price  bhk  7th Phase JP Nagar  8th Phase JP Nagar  \\\n",
       "0          550.0   1.0   27.00    1               False               False   \n",
       "1          440.0   1.0   28.00    1               False               False   \n",
       "2          510.0   1.0   25.25    1               False               False   \n",
       "3          510.0   1.0   25.25    1               False               False   \n",
       "4         1080.0   2.0   72.00    2                True               False   \n",
       "...          ...   ...     ...  ...                 ...                 ...   \n",
       "4298      1169.0   2.0   64.08    2               False               False   \n",
       "4299      2500.0   3.0  138.00    3               False               False   \n",
       "4300      1160.0   2.0   64.08    2               False               False   \n",
       "4301      2503.0   3.0  138.00    3               False               False   \n",
       "4302      1855.0   3.0  135.00    3               False               False   \n",
       "\n",
       "      9th Phase JP Nagar  Abbigere  Akshaya Nagar  Ambalipura  ...  \\\n",
       "0                  False     False          False       False  ...   \n",
       "1                  False     False          False       False  ...   \n",
       "2                  False     False          False       False  ...   \n",
       "3                  False     False          False       False  ...   \n",
       "4                  False     False          False       False  ...   \n",
       "...                  ...       ...            ...         ...  ...   \n",
       "4298               False     False          False       False  ...   \n",
       "4299               False     False          False       False  ...   \n",
       "4300               False     False          False       False  ...   \n",
       "4301               False     False          False       False  ...   \n",
       "4302               False     False          False       False  ...   \n",
       "\n",
       "      Thubarahalli  Tumkur Road  Uttarahalli  Varthur  Vijayanagar  \\\n",
       "0            False        False        False    False        False   \n",
       "1            False        False        False    False        False   \n",
       "2            False        False        False    False        False   \n",
       "3            False        False        False    False        False   \n",
       "4            False        False        False    False        False   \n",
       "...            ...          ...          ...      ...          ...   \n",
       "4298         False        False        False    False        False   \n",
       "4299         False        False        False    False        False   \n",
       "4300         False        False        False    False        False   \n",
       "4301         False        False        False    False        False   \n",
       "4302         False        False        False    False        False   \n",
       "\n",
       "      Vittasandra  Whitefield  Yelahanka  Yelahanka New Town  Yeshwanthpur  \n",
       "0           False       False      False               False         False  \n",
       "1           False       False      False               False         False  \n",
       "2           False       False      False               False         False  \n",
       "3           False       False      False               False         False  \n",
       "4           False       False      False               False         False  \n",
       "...           ...         ...        ...                 ...           ...  \n",
       "4298        False       False      False               False          True  \n",
       "4299        False       False      False               False          True  \n",
       "4300        False       False      False               False          True  \n",
       "4301        False       False      False               False          True  \n",
       "4302        False       False      False               False          True  \n",
       "\n",
       "[4303 rows x 115 columns]"
      ]
     },
     "execution_count": 102,
     "metadata": {},
     "output_type": "execute_result"
    }
   ],
   "source": [
    "home1.reset_index(drop = True)"
   ]
  },
  {
   "cell_type": "code",
   "execution_count": 103,
   "id": "77c1de13",
   "metadata": {},
   "outputs": [],
   "source": [
    "home1.to_csv('data/unique_locations_new.csv', index=False)"
   ]
  },
  {
   "cell_type": "code",
   "execution_count": 99,
   "id": "55b95454",
   "metadata": {
    "execution": {
     "iopub.execute_input": "2024-07-21T18:03:06.287586Z",
     "iopub.status.busy": "2024-07-21T18:03:06.286678Z",
     "iopub.status.idle": "2024-07-21T18:03:06.309262Z",
     "shell.execute_reply": "2024-07-21T18:03:06.308159Z"
    },
    "papermill": {
     "duration": 0.08393,
     "end_time": "2024-07-21T18:03:06.312062",
     "exception": false,
     "start_time": "2024-07-21T18:03:06.228132",
     "status": "completed"
    },
    "tags": []
   },
   "outputs": [],
   "source": [
    "\n",
    "X = home1.drop('price',axis = 1).values \n",
    "y = home1.price.values "
   ]
  },
  {
   "cell_type": "code",
   "execution_count": 100,
   "id": "20f2cfcb",
   "metadata": {
    "execution": {
     "iopub.execute_input": "2024-07-21T18:03:06.430036Z",
     "iopub.status.busy": "2024-07-21T18:03:06.429624Z",
     "iopub.status.idle": "2024-07-21T18:03:06.435248Z",
     "shell.execute_reply": "2024-07-21T18:03:06.434107Z"
    },
    "papermill": {
     "duration": 0.066587,
     "end_time": "2024-07-21T18:03:06.437801",
     "exception": false,
     "start_time": "2024-07-21T18:03:06.371214",
     "status": "completed"
    },
    "tags": []
   },
   "outputs": [],
   "source": [
    "y = y[:,np.newaxis]"
   ]
  },
  {
   "cell_type": "markdown",
   "id": "f95385fd",
   "metadata": {
    "papermill": {
     "duration": 0.05645,
     "end_time": "2024-07-21T18:03:06.550941",
     "exception": false,
     "start_time": "2024-07-21T18:03:06.494491",
     "status": "completed"
    },
    "tags": []
   },
   "source": [
    "#  Preprocessing Data Values with StandardScaler 📏"
   ]
  },
  {
   "cell_type": "markdown",
   "id": "a6a9cbd4",
   "metadata": {
    "papermill": {
     "duration": 0.056515,
     "end_time": "2024-07-21T18:03:06.664995",
     "exception": false,
     "start_time": "2024-07-21T18:03:06.608480",
     "status": "completed"
    },
    "tags": []
   },
   "source": [
    "<h3 style=\"background-color: #e9ecef; \n",
    "           padding: 15px; \n",
    "           font: bold 22px Arial; \n",
    "           color: #495057; \n",
    "           border: 2px solid #adb5bd; \n",
    "           border-radius: 8px;\n",
    "           margin: 0;\">\n",
    " Preprocessing Data Values with StandardScaler\n",
    "</h3>"
   ]
  },
  {
   "cell_type": "code",
   "execution_count": 101,
   "id": "3574abb3",
   "metadata": {
    "execution": {
     "iopub.execute_input": "2024-07-21T18:03:06.780032Z",
     "iopub.status.busy": "2024-07-21T18:03:06.779585Z",
     "iopub.status.idle": "2024-07-21T18:03:06.882920Z",
     "shell.execute_reply": "2024-07-21T18:03:06.881648Z"
    },
    "papermill": {
     "duration": 0.164168,
     "end_time": "2024-07-21T18:03:06.885806",
     "exception": false,
     "start_time": "2024-07-21T18:03:06.721638",
     "status": "completed"
    },
    "tags": []
   },
   "outputs": [],
   "source": [
    "sc = preprocessing.StandardScaler()\n",
    "X1 = sc.fit_transform(X)\n"
   ]
  },
  {
   "cell_type": "code",
   "execution_count": 64,
   "id": "046420e1",
   "metadata": {
    "execution": {
     "iopub.execute_input": "2024-07-21T18:03:07.003175Z",
     "iopub.status.busy": "2024-07-21T18:03:07.002691Z",
     "iopub.status.idle": "2024-07-21T18:03:07.067451Z",
     "shell.execute_reply": "2024-07-21T18:03:07.066115Z"
    },
    "papermill": {
     "duration": 0.127429,
     "end_time": "2024-07-21T18:03:07.070451",
     "exception": false,
     "start_time": "2024-07-21T18:03:06.943022",
     "status": "completed"
    },
    "tags": []
   },
   "outputs": [],
   "source": [
    "Std_x1 = preprocessing.scale(X)"
   ]
  },
  {
   "cell_type": "markdown",
   "id": "29922cbf",
   "metadata": {
    "papermill": {
     "duration": 0.05773,
     "end_time": "2024-07-21T18:03:07.186416",
     "exception": false,
     "start_time": "2024-07-21T18:03:07.128686",
     "status": "completed"
    },
    "tags": []
   },
   "source": [
    "# ⚙️ Model Building 🔧\n"
   ]
  },
  {
   "cell_type": "markdown",
   "id": "f940cc92",
   "metadata": {
    "papermill": {
     "duration": 0.057019,
     "end_time": "2024-07-21T18:03:07.300751",
     "exception": false,
     "start_time": "2024-07-21T18:03:07.243732",
     "status": "completed"
    },
    "tags": []
   },
   "source": [
    "<h3 style=\"background-color: #f8f9fa; \n",
    "           padding: 15px; \n",
    "           font: bold 22px Arial; \n",
    "           color: #343a40; \n",
    "           border: 2px solid #6c757d; \n",
    "           border-radius: 8px\">\n",
    "Regression Model Building\n",
    "</h3>"
   ]
  },
  {
   "cell_type": "code",
   "execution_count": 65,
   "id": "1e577019",
   "metadata": {
    "execution": {
     "iopub.execute_input": "2024-07-21T18:03:07.418412Z",
     "iopub.status.busy": "2024-07-21T18:03:07.418003Z",
     "iopub.status.idle": "2024-07-21T18:03:07.531491Z",
     "shell.execute_reply": "2024-07-21T18:03:07.530125Z"
    },
    "papermill": {
     "duration": 0.176516,
     "end_time": "2024-07-21T18:03:07.534472",
     "exception": false,
     "start_time": "2024-07-21T18:03:07.357956",
     "status": "completed"
    },
    "tags": []
   },
   "outputs": [],
   "source": [
    "from sklearn.model_selection import cross_val_score,cross_val_predict\n",
    "from sklearn.linear_model import LinearRegression\n",
    "lr = LinearRegression()\n",
    "from sklearn.model_selection import cross_validate as CV"
   ]
  },
  {
   "cell_type": "code",
   "execution_count": 66,
   "id": "69c56f52",
   "metadata": {
    "execution": {
     "iopub.execute_input": "2024-07-21T18:03:07.652813Z",
     "iopub.status.busy": "2024-07-21T18:03:07.651792Z",
     "iopub.status.idle": "2024-07-21T18:03:08.016900Z",
     "shell.execute_reply": "2024-07-21T18:03:08.014926Z"
    },
    "papermill": {
     "duration": 0.42787,
     "end_time": "2024-07-21T18:03:08.020730",
     "exception": false,
     "start_time": "2024-07-21T18:03:07.592860",
     "status": "completed"
    },
    "tags": []
   },
   "outputs": [
    {
     "name": "stdout",
     "output_type": "stream",
     "text": [
      "-2.734581717374955e+30\n"
     ]
    }
   ],
   "source": [
    "cross1 = cross_val_score(lr,Std_x1,y,cv=5,scoring='neg_mean_squared_error')\n",
    "print(cross1.mean())"
   ]
  },
  {
   "cell_type": "code",
   "execution_count": 67,
   "id": "afc33d7e",
   "metadata": {
    "execution": {
     "iopub.execute_input": "2024-07-21T18:03:08.217145Z",
     "iopub.status.busy": "2024-07-21T18:03:08.216129Z",
     "iopub.status.idle": "2024-07-21T18:03:08.227526Z",
     "shell.execute_reply": "2024-07-21T18:03:08.226165Z"
    },
    "papermill": {
     "duration": 0.0727,
     "end_time": "2024-07-21T18:03:08.230238",
     "exception": false,
     "start_time": "2024-07-21T18:03:08.157538",
     "status": "completed"
    },
    "tags": []
   },
   "outputs": [],
   "source": [
    "from sklearn.model_selection import train_test_split\n",
    "X_train, X_test, y_train, y_test = train_test_split(X1,y,test_size=0.3,random_state=10)"
   ]
  },
  {
   "cell_type": "code",
   "execution_count": 68,
   "id": "8dba2c19",
   "metadata": {
    "execution": {
     "iopub.execute_input": "2024-07-21T18:03:08.349047Z",
     "iopub.status.busy": "2024-07-21T18:03:08.347910Z",
     "iopub.status.idle": "2024-07-21T18:03:08.656496Z",
     "shell.execute_reply": "2024-07-21T18:03:08.655191Z"
    },
    "papermill": {
     "duration": 0.369878,
     "end_time": "2024-07-21T18:03:08.659398",
     "exception": false,
     "start_time": "2024-07-21T18:03:08.289520",
     "status": "completed"
    },
    "tags": []
   },
   "outputs": [],
   "source": [
    "from sklearn.linear_model import LinearRegression, Ridge, Lasso, ElasticNet\n",
    "from sklearn.tree import DecisionTreeRegressor\n",
    "from sklearn.ensemble import RandomForestRegressor, GradientBoostingRegressor\n",
    "from sklearn.metrics import mean_absolute_error, mean_squared_error, r2_score\n"
   ]
  },
  {
   "cell_type": "code",
   "execution_count": 69,
   "id": "ac35a6fc",
   "metadata": {
    "execution": {
     "iopub.execute_input": "2024-07-21T18:03:08.781554Z",
     "iopub.status.busy": "2024-07-21T18:03:08.781107Z",
     "iopub.status.idle": "2024-07-21T18:03:08.787501Z",
     "shell.execute_reply": "2024-07-21T18:03:08.786318Z"
    },
    "papermill": {
     "duration": 0.070744,
     "end_time": "2024-07-21T18:03:08.790132",
     "exception": false,
     "start_time": "2024-07-21T18:03:08.719388",
     "status": "completed"
    },
    "tags": []
   },
   "outputs": [],
   "source": [
    "models = [\n",
    "    LinearRegression(),\n",
    "    Ridge(),\n",
    "    Lasso(alpha=1.0),\n",
    "    ElasticNet(),\n",
    "    DecisionTreeRegressor(),\n",
    "    RandomForestRegressor(),\n",
    "    GradientBoostingRegressor(),\n",
    "]"
   ]
  },
  {
   "cell_type": "code",
   "execution_count": 70,
   "id": "fc36ab6a",
   "metadata": {
    "execution": {
     "iopub.execute_input": "2024-07-21T18:03:08.910801Z",
     "iopub.status.busy": "2024-07-21T18:03:08.910358Z",
     "iopub.status.idle": "2024-07-21T18:03:11.994333Z",
     "shell.execute_reply": "2024-07-21T18:03:11.993177Z"
    },
    "papermill": {
     "duration": 3.147646,
     "end_time": "2024-07-21T18:03:11.997216",
     "exception": false,
     "start_time": "2024-07-21T18:03:08.849570",
     "status": "completed"
    },
    "tags": []
   },
   "outputs": [],
   "source": [
    "model_names = []\n",
    "mae_Accuracy=[]\n",
    "mse_Accuracy=[]\n",
    "r2_Accuracy=[]\n",
    "\n",
    "for algo in models:\n",
    "    algo.fit(X_train,y_train)\n",
    "    y_pred = algo.predict(X_test)\n",
    "    mae = mean_absolute_error(y_test,y_pred)\n",
    "    mse = mean_squared_error(y_test,y_pred)\n",
    "    r2 = r2_score(y_test, y_pred)\n",
    "    model_names.append(algo.__class__.__name__)\n",
    "    mae_Accuracy.append(mae)\n",
    "    mse_Accuracy.append(mse)\n",
    "    r2_Accuracy.append(r2)"
   ]
  },
  {
   "cell_type": "code",
   "execution_count": 71,
   "id": "998f2c25",
   "metadata": {
    "execution": {
     "iopub.execute_input": "2024-07-21T18:03:12.116297Z",
     "iopub.status.busy": "2024-07-21T18:03:12.115821Z",
     "iopub.status.idle": "2024-07-21T18:03:12.122350Z",
     "shell.execute_reply": "2024-07-21T18:03:12.121124Z"
    },
    "papermill": {
     "duration": 0.068002,
     "end_time": "2024-07-21T18:03:12.124868",
     "exception": false,
     "start_time": "2024-07-21T18:03:12.056866",
     "status": "completed"
    },
    "tags": []
   },
   "outputs": [],
   "source": [
    "model_df = pd.DataFrame({\n",
    "    'Model': model_names,\n",
    "    'mae_Accuracy': mae_Accuracy,\n",
    "    'mse_Accuracy': mse_Accuracy,\n",
    "    'r2_Accuracy': r2_Accuracy,\n",
    "        })"
   ]
  },
  {
   "cell_type": "code",
   "execution_count": 72,
   "id": "412f97cc",
   "metadata": {
    "execution": {
     "iopub.execute_input": "2024-07-21T18:03:12.244382Z",
     "iopub.status.busy": "2024-07-21T18:03:12.243985Z",
     "iopub.status.idle": "2024-07-21T18:03:12.258457Z",
     "shell.execute_reply": "2024-07-21T18:03:12.257234Z"
    },
    "papermill": {
     "duration": 0.076674,
     "end_time": "2024-07-21T18:03:12.260937",
     "exception": false,
     "start_time": "2024-07-21T18:03:12.184263",
     "status": "completed"
    },
    "tags": []
   },
   "outputs": [
    {
     "data": {
      "text/html": [
       "<div>\n",
       "<style scoped>\n",
       "    .dataframe tbody tr th:only-of-type {\n",
       "        vertical-align: middle;\n",
       "    }\n",
       "\n",
       "    .dataframe tbody tr th {\n",
       "        vertical-align: top;\n",
       "    }\n",
       "\n",
       "    .dataframe thead th {\n",
       "        text-align: right;\n",
       "    }\n",
       "</style>\n",
       "<table border=\"1\" class=\"dataframe\">\n",
       "  <thead>\n",
       "    <tr style=\"text-align: right;\">\n",
       "      <th></th>\n",
       "      <th>Model</th>\n",
       "      <th>mae_Accuracy</th>\n",
       "      <th>mse_Accuracy</th>\n",
       "      <th>r2_Accuracy</th>\n",
       "    </tr>\n",
       "  </thead>\n",
       "  <tbody>\n",
       "    <tr>\n",
       "      <th>5</th>\n",
       "      <td>RandomForestRegressor</td>\n",
       "      <td>9.153982</td>\n",
       "      <td>222.793576</td>\n",
       "      <td>0.904354</td>\n",
       "    </tr>\n",
       "    <tr>\n",
       "      <th>1</th>\n",
       "      <td>Ridge</td>\n",
       "      <td>10.355644</td>\n",
       "      <td>235.393186</td>\n",
       "      <td>0.898945</td>\n",
       "    </tr>\n",
       "    <tr>\n",
       "      <th>0</th>\n",
       "      <td>LinearRegression</td>\n",
       "      <td>10.353748</td>\n",
       "      <td>235.443096</td>\n",
       "      <td>0.898923</td>\n",
       "    </tr>\n",
       "    <tr>\n",
       "      <th>6</th>\n",
       "      <td>GradientBoostingRegressor</td>\n",
       "      <td>11.759088</td>\n",
       "      <td>263.885183</td>\n",
       "      <td>0.886713</td>\n",
       "    </tr>\n",
       "    <tr>\n",
       "      <th>2</th>\n",
       "      <td>Lasso</td>\n",
       "      <td>12.546938</td>\n",
       "      <td>288.335751</td>\n",
       "      <td>0.876216</td>\n",
       "    </tr>\n",
       "    <tr>\n",
       "      <th>4</th>\n",
       "      <td>DecisionTreeRegressor</td>\n",
       "      <td>10.120806</td>\n",
       "      <td>331.161370</td>\n",
       "      <td>0.857831</td>\n",
       "    </tr>\n",
       "    <tr>\n",
       "      <th>3</th>\n",
       "      <td>ElasticNet</td>\n",
       "      <td>13.668323</td>\n",
       "      <td>382.488912</td>\n",
       "      <td>0.835796</td>\n",
       "    </tr>\n",
       "  </tbody>\n",
       "</table>\n",
       "</div>"
      ],
      "text/plain": [
       "                       Model  mae_Accuracy  mse_Accuracy  r2_Accuracy\n",
       "5      RandomForestRegressor      9.153982    222.793576     0.904354\n",
       "1                      Ridge     10.355644    235.393186     0.898945\n",
       "0           LinearRegression     10.353748    235.443096     0.898923\n",
       "6  GradientBoostingRegressor     11.759088    263.885183     0.886713\n",
       "2                      Lasso     12.546938    288.335751     0.876216\n",
       "4      DecisionTreeRegressor     10.120806    331.161370     0.857831\n",
       "3                 ElasticNet     13.668323    382.488912     0.835796"
      ]
     },
     "execution_count": 72,
     "metadata": {},
     "output_type": "execute_result"
    }
   ],
   "source": [
    "model_df.sort_values(by='r2_Accuracy',ascending=False)"
   ]
  }
 ],
 "metadata": {
  "kaggle": {
   "accelerator": "none",
   "dataSources": [
    {
     "datasetId": 20710,
     "sourceId": 26737,
     "sourceType": "datasetVersion"
    },
    {
     "datasetId": 4592113,
     "sourceId": 7834562,
     "sourceType": "datasetVersion"
    },
    {
     "datasetId": 5424420,
     "sourceId": 9004191,
     "sourceType": "datasetVersion"
    }
   ],
   "dockerImageVersionId": 30746,
   "isGpuEnabled": false,
   "isInternetEnabled": true,
   "language": "python",
   "sourceType": "notebook"
  },
  "kernelspec": {
   "display_name": "Python 3",
   "language": "python",
   "name": "python3"
  },
  "language_info": {
   "codemirror_mode": {
    "name": "ipython",
    "version": 3
   },
   "file_extension": ".py",
   "mimetype": "text/x-python",
   "name": "python",
   "nbconvert_exporter": "python",
   "pygments_lexer": "ipython3",
   "version": "3.12.5"
  },
  "papermill": {
   "duration": 28.33623,
   "end_time": "2024-07-21T18:03:13.143327",
   "environment_variables": {},
   "exception": null,
   "input_path": "__notebook__.ipynb",
   "output_path": "__notebook__.ipynb",
   "parameters": {},
   "start_time": "2024-07-21T18:02:44.807097",
   "version": "2.1.0"
  }
 },
 "nbformat": 4,
 "nbformat_minor": 5
}
